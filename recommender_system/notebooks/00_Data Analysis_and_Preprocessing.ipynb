{
 "cells": [
  {
   "cell_type": "code",
   "execution_count": 1,
   "metadata": {},
   "outputs": [
    {
     "name": "stderr",
     "output_type": "stream",
     "text": [
      "c:\\Users\\vijay.rameshkumar\\Anaconda3\\envs\\myenv\\lib\\site-packages\\numpy\\_distributor_init.py:30: UserWarning: loaded more than 1 DLL from .libs:\n",
      "c:\\Users\\vijay.rameshkumar\\Anaconda3\\envs\\myenv\\lib\\site-packages\\numpy\\.libs\\libopenblas.EL2C6PLE4ZYW3ECEVIV3OXXGRN2NRFM2.gfortran-win_amd64.dll\n",
      "c:\\Users\\vijay.rameshkumar\\Anaconda3\\envs\\myenv\\lib\\site-packages\\numpy\\.libs\\libopenblas.XWYDX2IKJW2NMTWSFYNGFUWKQU3LYTCZ.gfortran-win_amd64.dll\n",
      "  warnings.warn(\"loaded more than 1 DLL from .libs:\"\n"
     ]
    }
   ],
   "source": [
    "import pandas as pd\n",
    "import numpy as np\n",
    "\n",
    "import tensorflow as tf\n",
    "import tensorflow_datasets as tfds\n",
    "import tensorflow_recommenders as tfrs\n",
    "from typing import Dict, Text\n",
    "import pycountry_convert as pc\n",
    "import pycountry\n",
    "import json\n",
    "import seaborn as sns\n",
    "import matplotlib.pyplot as plt\n",
    "\n",
    "\n",
    "import warnings\n",
    "warnings.filterwarnings('ignore')"
   ]
  },
  {
   "cell_type": "code",
   "execution_count": 2,
   "metadata": {},
   "outputs": [],
   "source": [
    "df = pd.read_csv('Datasets/full_ml_training_data_2022-06-21_1655773206777.csv')\n",
    "\n",
    "supplier_cols = ['projects__name', 'sample_pulls__country', 'sample_pulls__language', \n",
    "'sample_pulls__cost_per_interview', 'sample_pulls__industry', 'sample_pulls__sample_type', \n",
    "'quote_average_cpi', 'projects__study_types', 'suppliers__ref', 'effective_disposition']\n",
    "\n",
    "df = df[supplier_cols]"
   ]
  },
  {
   "cell_type": "code",
   "execution_count": 3,
   "metadata": {},
   "outputs": [],
   "source": [
    "get_continent = lambda x: pc.convert_continent_code_to_continent_name(pc.country_alpha2_to_continent_code(pc.country_name_to_country_alpha2(x))).lower().replace(\" \", \"-\")\n",
    "\n",
    "df['continents'] = df.sample_pulls__country.str.upper().apply(get_continent)"
   ]
  },
  {
   "cell_type": "code",
   "execution_count": 4,
   "metadata": {},
   "outputs": [
    {
     "name": "stdout",
     "output_type": "stream",
     "text": [
      "0\n"
     ]
    }
   ],
   "source": [
    "print(df.isnull().sum().sum())\n",
    "\n",
    "df.fillna(0, inplace=True)"
   ]
  },
  {
   "cell_type": "markdown",
   "metadata": {},
   "source": [
    "# 1. Inferential Analysis"
   ]
  },
  {
   "cell_type": "code",
   "execution_count": 5,
   "metadata": {},
   "outputs": [
    {
     "name": "stdout",
     "output_type": "stream",
     "text": [
      "Total Records :  2888057\n",
      "number of unique_countries : 53\n",
      "number of unique_languages : 26\n",
      "number of unique_countries - language Combinations : 1378\n"
     ]
    }
   ],
   "source": [
    "print(\"Total Records : \", df.shape[0])\n",
    "\n",
    "total_records = df.shape[0]\n",
    "\n",
    "print(f\"number of unique_countries : {df.sample_pulls__country.nunique()}\")\n",
    "print(f\"number of unique_languages : {df.sample_pulls__language.nunique()}\")\n",
    "print(f\"number of unique_countries - language Combinations : {df.sample_pulls__country.nunique() * df.sample_pulls__language.nunique()}\")"
   ]
  },
  {
   "cell_type": "code",
   "execution_count": 6,
   "metadata": {},
   "outputs": [
    {
     "name": "stdout",
     "output_type": "stream",
     "text": [
      "total records we're having in src dataset : 2888057\n",
      "\n",
      "Without US & CAN we'll be having : 958756 records\n",
      "US & CAN - ALL records perc : 66.8%\n",
      "All countries without US & CAN : 33.2%\n",
      "\n",
      "Without US & CAN For ENG Language we'll be having: 965214 records\n",
      "US & CAN for ENG Language records perc : 66.58%\n",
      "Other Countries & All Language records perc : 33.42%\n"
     ]
    }
   ],
   "source": [
    "us_can_eng = df[(df.sample_pulls__country == 'usa') & (df.sample_pulls__language == 'eng')].shape[0] + df[(df.sample_pulls__country == 'can') & (df.sample_pulls__language == 'eng')].shape[0]\n",
    "us_can_all_lang = df[(df.sample_pulls__country == 'usa') | (df.sample_pulls__country == 'can')].shape[0]\n",
    "\n",
    "print(f\"total records we're having in src dataset : {total_records}\")\n",
    "\n",
    "print(f\"\\nWithout US & CAN we'll be having : {total_records - us_can_all_lang} records\")\n",
    "print(f\"US & CAN - ALL records perc : {round(((us_can_all_lang)/total_records)*100, 2)}%\")\n",
    "print(f\"All countries without US & CAN : {round(((total_records - us_can_all_lang)/total_records)*100,2)}%\")\n",
    "\n",
    "print(f\"\\nWithout US & CAN For ENG Language we'll be having: {total_records - us_can_eng} records\")\n",
    "print(f\"US & CAN for ENG Language records perc : {round(((us_can_eng)/total_records)*100, 2)}%\")\n",
    "print(f\"Other Countries & All Language records perc : {round(((total_records - us_can_eng)/total_records)*100, 2)}%\")\n"
   ]
  },
  {
   "cell_type": "code",
   "execution_count": 7,
   "metadata": {},
   "outputs": [
    {
     "data": {
      "text/plain": [
       "Index(['projects__name', 'sample_pulls__country', 'sample_pulls__language',\n",
       "       'sample_pulls__cost_per_interview', 'sample_pulls__industry',\n",
       "       'sample_pulls__sample_type', 'quote_average_cpi',\n",
       "       'projects__study_types', 'suppliers__ref', 'effective_disposition',\n",
       "       'continents'],\n",
       "      dtype='object')"
      ]
     },
     "execution_count": 7,
     "metadata": {},
     "output_type": "execute_result"
    }
   ],
   "source": [
    "df.columns"
   ]
  },
  {
   "cell_type": "code",
   "execution_count": 8,
   "metadata": {},
   "outputs": [
    {
     "data": {
      "text/plain": [
       "array(['egy', 'ken', 'nga', 'zaf'], dtype=object)"
      ]
     },
     "execution_count": 8,
     "metadata": {},
     "output_type": "execute_result"
    }
   ],
   "source": [
    "df[df.continents == 'africa'].sample_pulls__country.unique()"
   ]
  },
  {
   "cell_type": "markdown",
   "metadata": {},
   "source": [
    "# 2. Continent Level Distribution"
   ]
  },
  {
   "cell_type": "code",
   "execution_count": 9,
   "metadata": {},
   "outputs": [
    {
     "data": {
      "image/png": "[encoded data removed]",
      "text/plain": [
       "<Figure size 432x288 with 1 Axes>"
      ]
     },
     "metadata": {
      "needs_background": "light"
     },
     "output_type": "display_data"
    }
   ],
   "source": [
    "continent_level_stats = df.groupby(['continents']).projects__name.count().reset_index(name='record_count')\n",
    "\n",
    "# sns.set(rc={\"figure.figsize\":(20, 10)})\n",
    "sns.barplot(x=continent_level_stats.continents.values.tolist(), y=continent_level_stats.record_count.values.tolist()).set_title('Data - Continent Level Distribution')\n",
    "plt.xticks(rotation=90)\n",
    "plt.show()"
   ]
  },
  {
   "cell_type": "markdown",
   "metadata": {},
   "source": [
    "# 3. Country Level Distribution"
   ]
  },
  {
   "cell_type": "code",
   "execution_count": 10,
   "metadata": {},
   "outputs": [
    {
     "data": {
      "image/png": "[encoded data removed]",
      "text/plain": [
       "<Figure size 1440x720 with 1 Axes>"
      ]
     },
     "metadata": {},
     "output_type": "display_data"
    }
   ],
   "source": [
    "country_level_stats = df.groupby(['sample_pulls__country']).projects__name.count().reset_index(name='record_count')\n",
    "\n",
    "sns.set(rc={\"figure.figsize\":(20, 10)})\n",
    "sns.barplot(x=country_level_stats.sample_pulls__country.values.tolist(), y=country_level_stats.record_count.values.tolist()).set_title('Data - Country Level Distribution')\n",
    "plt.xticks(rotation=90)\n",
    "plt.show()"
   ]
  },
  {
   "cell_type": "markdown",
   "metadata": {},
   "source": [
    "# 4. Country_Lang Level Data Distribution"
   ]
  },
  {
   "cell_type": "code",
   "execution_count": 11,
   "metadata": {},
   "outputs": [
    {
     "data": {
      "image/png": "[encoded data removed]",
      "text/plain": [
       "<Figure size 1440x720 with 1 Axes>"
      ]
     },
     "metadata": {},
     "output_type": "display_data"
    }
   ],
   "source": [
    "country_lang_level_stats = df.groupby(['sample_pulls__country', 'sample_pulls__language']).projects__name.count().reset_index(name='record_count')\n",
    "country_lang_level_stats['cntry_lang'] = country_lang_level_stats['sample_pulls__country'] + \"_\" + country_lang_level_stats['sample_pulls__language']\n",
    "\n",
    "sns.set(rc={\"figure.figsize\":(20, 10)})\n",
    "sns.barplot(x=country_lang_level_stats.cntry_lang.values.tolist(), y=country_lang_level_stats.record_count.values.tolist()).set_title('Data - Country_Lang Level Distribution')\n",
    "plt.xticks(rotation=90)\n",
    "plt.show()"
   ]
  },
  {
   "cell_type": "markdown",
   "metadata": {},
   "source": [
    "# 5. Data Transformation"
   ]
  },
  {
   "cell_type": "markdown",
   "metadata": {},
   "source": [
    "## 5.1 Study_Subject Transformation"
   ]
  },
  {
   "cell_type": "code",
   "execution_count": 12,
   "metadata": {},
   "outputs": [
    {
     "name": "stdout",
     "output_type": "stream",
     "text": [
      "[projects__study_types]: Evaluating datatype (list)\n",
      "[projects__study_types]: Exploding into multiple rows\n",
      "[projects__study_types_ids]: Creating and mapping ...\n",
      "[projects__study_types_subject_ids]: Creating and mapping ...\n"
     ]
    }
   ],
   "source": [
    "from collections import ChainMap\n",
    "import pandas as pd\n",
    "import ast \n",
    "\n",
    "cn = 'projects__study_types'\n",
    "\n",
    "def map_study_id(x):\n",
    "    a = {\n",
    "        \"40165df2-2e90-421b-81a7-92d6de784eeb\": \"B2B\",\n",
    "        \"40bfbdc8-e328-44a2-8d99-91779ee7af52\": \"Community\",\n",
    "        \"58ce16af-4615-4c15-b50a-bc3b9f8782af\": \"Consumer Study\",\n",
    "        \"a452991e-25f9-4b8d-a988-780185bb79dc\": \"Healthcare\",\n",
    "        \"0ca996b8-395e-4c9e-966e-017b73fa3c10\": \"Music Study\",\n",
    "        \"7ad4fa71-ef64-46ac-8b50-e1430c8a7b07\": \"Product Testing\",\n",
    "        \"b6d2d721-4017-4289-b869-7269a3339ebd\": \"Recruit\"\n",
    "    }\n",
    "\n",
    "    return a[x]\n",
    "\n",
    "def map_subject_id(lst):\n",
    "    b = {\n",
    "        \"d13e78ef-48ed-46ea-9aec-12950a164c84\":\"banking_financial\",\n",
    "        \"35b79ac1-9b3a-4752-b58b-aa866b098090\":\"biotech_pharmaceutical\",\n",
    "        \"0c325fe2-6266-4c37-b5be-bc6328197a73\":\"corporate_travel\",\n",
    "        \"859d0917-e6d1-4e02-9f89-7eda7a874975\":\"fulfillment\",\n",
    "        \"79ef05f1-4dac-45f1-814e-a4eeb8155743\":\"hr\",\n",
    "        \"bc5b9962-b316-45eb-998c-1c77d87e7fe0\":\"it_decision_maker\",\n",
    "        \"d2d28831-b843-469c-82f7-33f4c0ba9e25\":\"legal\",\n",
    "        \"c9f8f3a0-e399-4ecf-a0f1-566aef415723\":\"marketing_advertising\",\n",
    "        \"6eeaf2c0-4a88-4c66-b088-8b6318d23b0d\":\"office_supplies\",\n",
    "        \"53aed679-240e-462f-8951-bbd25ce2b9af\":\"operations\",\n",
    "        \"bdeef761-bdae-4f20-9ab9-87eca2fab072\":\"real_estate_brokers_agents\",\n",
    "        \"006c87f4-9287-4a21-85f1-62e0fcb5bfd2\":\"sales\",\n",
    "        \"2bc5a048-0220-4789-a538-ab1959cb9546\":\"security\",\n",
    "        \"1e01718c-d581-48f3-853f-695527bd2ccc\":\"service\",\n",
    "        \"c1815203-0791-446a-bf88-81e1f624f18a\":\"software_hardware\",\n",
    "        \"73d13a7b-4a67-43e8-80b1-0de01a06f555\":\"technology\",\n",
    "        \"1f668cbd-197c-4caf-80b1-fc4b23cc6fc3\":\"transportation_logistics\",\n",
    "        \"f3c73d6a-464e-4adf-a6fe-f66afc3db11f\":\"other\",\n",
    "        \"8ce2e5d3-e5d4-494e-b406-5d53e8e7dbc3\":\"apparel_fashion \",\n",
    "        \"fc86e9da-c494-46c1-8477-d14db7f06272\":\"automotive_vehicle \",\n",
    "        \"e102c50c-e18c-45cb-bd7c-0a7b28e8e9ea\":\"bulletin_board_diary \",\n",
    "        \"e7d01b2b-2dab-4954-8864-e6ff621f844f\":\"commuting_frequent_travelers \",\n",
    "        \"27ee89ea-2e35-4be6-9210-be379bd5bd46\":\"electronics_large_appliance\",\n",
    "        \"798e6098-76b7-4cf0-8f2f-5bc15167709c\":\"gaming\",\n",
    "        \"51af3b9e-1d2d-4472-928e-ded86323f756\":\"kitchen_small_appliance\",\n",
    "        \"e1a115c4-c711-4389-85f1-5146cbc590ef\":\"long_term\",\n",
    "        \"a7718314-43dc-4683-a2bc-ec5b5801169a\":\"mattress_bedding \",\n",
    "        \"3aaa98f7-f8e0-4beb-adc9-4d468f243cb0\":\"mental_health_behavioral\",\n",
    "        \"d294a03e-f79c-4ccb-9948-e143758600bd\":\"parenting_childcare\",\n",
    "        \"115a186b-c926-4c7b-9d6f-8fb364e84627\":\"recruitment_panel\",\n",
    "        \"ba7ad211-8661-4243-b0af-251c11fa314a\":\"shop_along_dining\",\n",
    "        \"a9f57ded-68b5-470d-a137-e3ece282f3d5\":\"short_term\",\n",
    "        \"fd5c7eef-2ab1-48f0-9156-3a94d2d63c58\":\"other\",\n",
    "        \"f1623cdf-c1e7-4188-805a-e959ccb80e90\":\"automotive_transportation\",\n",
    "        \"e550107c-28bf-438d-a7b7-587ebc0ff122\":\"community_insights \",\n",
    "        \"f45fe241-110c-44b5-a9f8-6cac0ebd68bf\":\"entertainment\",\n",
    "        \"6a3517b9-b93d-4f74-9cfc-18c31ecfd28e\":\"finance_legal_insurance\",\n",
    "        \"90d20f7c-da44-4c70-b736-e24e2aeae28a\":\"food_beverage\",\n",
    "        \"5e7188c7-d4c1-426b-8c09-e3e2d33fc4b5\":\"grooming_cosmetics\",\n",
    "        \"a337fdf6-1dc3-4418-9091-bbd3247a5883\":\"household\",\n",
    "        \"bc193f05-1771-4544-b72e-a2e99c1a1823\":\"news_print_media\",\n",
    "        \"8364dc15-8794-4289-a821-e5115187e579\":\"nutrition_wellness_fitness\",\n",
    "        \"825aaab6-7691-4238-b132-0b3a9e6db01b\":\"pets_animal\",\n",
    "        \"8541642e-2020-4810-aeca-555b826a6e3b\":\"political\",\n",
    "        \"a7e9a929-2565-4b90-bc4a-66f757b8f584\":\"political_civic_services\",\n",
    "        \"4830f8e9-5c9b-4492-8e12-e909f8f12f22\":\"print_social_media\",\n",
    "        \"8a6d75b5-7609-4be1-aa4e-37ed2a1870f2\":\"realestate_construction\",\n",
    "        \"a1e5507e-dc92-4a20-91e0-538167a68b03\":\"shopping_ecommerce \",\n",
    "        \"9421c5f2-1ac7-4000-8b9a-c7d0afe9c9f0\":\"social_media\",\n",
    "        \"61e25b42-46dd-41c1-b28a-2e3ed46db835\":\"sports_gambling\",\n",
    "        \"97a74f67-2f72-466b-8584-8830fe000d75\":\"technology\",\n",
    "        \"a62d7f91-59ed-45d8-b0ac-849ea56d911e\":\"tobacco_vaping \",\n",
    "        \"e7b86ff7-090b-4f25-b1f4-e0ac94c6d131\":\"travel\",\n",
    "        \"a6d1da3c-a58e-4b7f-9a59-a40e7ea7a92b\":\"video_games_games_toys\",\n",
    "        \"71927908-032c-4eb0-b7aa-4f37ee36c337\":\"other\",\n",
    "        \"c3102234-f46c-4df8-8ee5-e4a1857484dc\":\"patient\",\n",
    "        \"892c04c1-5882-49e0-8923-9ad0b027f67f\":\"pharmaceutical\",\n",
    "        \"2fb3b064-49cc-4ac8-bb38-521352442988\":\"professional\",\n",
    "        \"eeb127d9-ef6a-4829-b06f-6d7ca9b6809c\":\"other\",\n",
    "        \"3a263828-d4c2-4283-8747-064944213cde\":\"long_form\",\n",
    "        \"d4c6299b-19aa-42ce-821e-18ba9f4c7d74\":\"short\",\n",
    "        \"aacec342-f98b-4e50-81bf-7d79b602f639\":\"other\",\n",
    "        \"a0c26f95-1f15-4a26-93a0-1ebccd342fde\":\"apparel_fashion\",\n",
    "        \"6aa0c31f-35bc-409a-bb0c-3bc2a00c1181\":\"appliance_home_improvement\",\n",
    "        \"107af06a-242b-41f5-8ce3-c12db0f3e7b3\":\"app_online\",\n",
    "        \"d780fe64-26ad-4d17-9fac-a37c751e1c08\":\"automotive_vehicle\",\n",
    "        \"f0d2de5d-2233-4374-9b06-c25d0d720c23\":\"beauty_self_care\",\n",
    "        \"91e53495-b403-45bf-ac35-327998e1f79b\":\"electronics\",\n",
    "        \"c9e01dbd-e64d-4552-ae63-210156e49fab\":\"entertainment_media\",\n",
    "        \"2df8da96-7905-4353-86b1-94f6726694f1\":\"food_beverage\",\n",
    "        \"e9bb90fa-c4bb-47ea-89c9-dfb2ac79e3b2\":\"games_toys\",\n",
    "        \"1f2b5133-0155-4651-899b-7890e29ad892\":\"household_home_care\",\n",
    "        \"dc07d54f-deac-4505-919a-f2e307822ec8\":\"parenting_childcare\",\n",
    "        \"e09cfe0f-48a1-40cb-bd41-64ce17e894b6\":\"pets_animal\",\n",
    "        \"b0d3230f-bb2c-47a5-90df-7525d74aa8a4\":\"tobacco_vaping \",\n",
    "        \"4753d06b-e9e2-41c9-adf4-d91ed43266f9\":\"other\",\n",
    "        \"4e989a79-5e86-464b-9683-ddab15af5de8\":\"double_opt_in\",\n",
    "        \"c51a81e5-7e8c-4937-9b04-3d280151f0a5\":\"single_opt_in\",\n",
    "        \"bef3c165-34d3-494a-8d3e-bff90a5d1571\":\"other\",\n",
    "    }\n",
    "\n",
    "    return [b[x] for x in lst]\n",
    "\n",
    "\n",
    "print(f'[{cn}]: Evaluating datatype (list)')\n",
    "df[cn] = df[cn].apply(ast.literal_eval)\n",
    "\n",
    "print(f'[{cn}]: Exploding into multiple rows')\n",
    "df = df.explode(cn)\n",
    "\n",
    "\n",
    "print(f'[projects__study_types_ids]: Creating and mapping ...')\n",
    "df['projects__study_types_ids'] = df.apply(lambda x: map_study_id(x[cn]['id']), axis=1)\n",
    "\n",
    "print(f'[projects__study_types_subject_ids]: Creating and mapping ...')\n",
    "df['projects__study_types_subject_ids'] = df.apply(lambda x: map_subject_id(x[cn]['studySubjectIds']), axis=1)"
   ]
  },
  {
   "cell_type": "code",
   "execution_count": 13,
   "metadata": {},
   "outputs": [
    {
     "name": "stdout",
     "output_type": "stream",
     "text": [
      "before exploding subject wise (2899562, 13)\n",
      "after exploding subject wise (3378176, 13)\n"
     ]
    }
   ],
   "source": [
    "print(f\"before exploding subject wise {df.shape}\")\n",
    "\n",
    "df = df.explode('projects__study_types_subject_ids')\n",
    "\n",
    "print(f\"after exploding subject wise {df.shape}\")"
   ]
  },
  {
   "cell_type": "code",
   "execution_count": 14,
   "metadata": {},
   "outputs": [],
   "source": [
    "df = df[df.effective_disposition.isin(['complete', 'security_terminate', 'terminate', 'over_quota'])]"
   ]
  },
  {
   "cell_type": "code",
   "execution_count": 15,
   "metadata": {},
   "outputs": [],
   "source": [
    "for col in df.columns:\n",
    "    df[col] = df[col].apply(lambda x: x.strip() if type(x) == 'str' else x)\n",
    "\n",
    "df['projects__study_types_ids'] = df['projects__study_types_ids'].str.lower().apply(lambda x: x.replace(\" \", \"_\"))\n",
    "df['projects__study_types_subject_ids'] = df['projects__study_types_subject_ids'].str.lower()"
   ]
  },
  {
   "cell_type": "markdown",
   "metadata": {},
   "source": [
    "## 5.2 Continent_lang_study_subject"
   ]
  },
  {
   "cell_type": "code",
   "execution_count": 16,
   "metadata": {},
   "outputs": [],
   "source": [
    "temp = df.groupby(['continents', 'sample_pulls__language', 'projects__study_types_ids', 'projects__study_types_subject_ids', 'suppliers__ref', 'effective_disposition']).effective_disposition.count().reset_index(name='counts')\n",
    "\n",
    "f2 = pd.pivot_table(temp, values='counts', index=['continents', 'sample_pulls__language', 'projects__study_types_ids', 'projects__study_types_subject_ids','suppliers__ref'], columns='effective_disposition').fillna(0)"
   ]
  },
  {
   "cell_type": "code",
   "execution_count": 17,
   "metadata": {},
   "outputs": [],
   "source": [
    "f2['weighted_quote_avg_cpi_median'] = df.groupby(['continents', 'sample_pulls__language', 'projects__study_types_ids', 'projects__study_types_subject_ids', 'suppliers__ref']).quote_average_cpi.median().values\n",
    "f2['weighted_suppliers_median_cpi'] = df.groupby(['continents', 'sample_pulls__language', 'projects__study_types_ids', 'projects__study_types_subject_ids', 'suppliers__ref']).sample_pulls__cost_per_interview.median().values\n",
    "f2['median_profit_per_respondent'] = f2['weighted_quote_avg_cpi_median'] - f2['weighted_suppliers_median_cpi']\n",
    "f2['profit_%'] = (f2['median_profit_per_respondent'] / f2['weighted_quote_avg_cpi_median'])*100\n",
    "\n",
    "f2['total_panelist'] = f2['complete'] + f2['over_quota'] + f2['security_terminate'] + f2['terminate']\n",
    "f2['accepted_panelist'] = f2['complete'] + f2['over_quota']\n",
    "f2['rejected_panelist'] = f2['security_terminate']+f2['terminate']\n",
    "f2['weighted_suppliers_median_complete_ratio'] = (f2['accepted_panelist'] / f2['total_panelist'])\n",
    "\n",
    "f2 = f2.reset_index()\n",
    "\n",
    "f2 = f2.sort_values(by=['continents', 'sample_pulls__language',\n",
    "       'projects__study_types_ids', 'projects__study_types_subject_ids', \n",
    "       'median_profit_per_respondent', 'weighted_suppliers_median_complete_ratio'], ascending=[True, True, True, True, False, False])"
   ]
  },
  {
   "cell_type": "code",
   "execution_count": 18,
   "metadata": {},
   "outputs": [
    {
     "data": {
      "text/html": [
       "<div>\n",
       "<style scoped>\n",
       "    .dataframe tbody tr th:only-of-type {\n",
       "        vertical-align: middle;\n",
       "    }\n",
       "\n",
       "    .dataframe tbody tr th {\n",
       "        vertical-align: top;\n",
       "    }\n",
       "\n",
       "    .dataframe thead th {\n",
       "        text-align: right;\n",
       "    }\n",
       "</style>\n",
       "<table border=\"1\" class=\"dataframe\">\n",
       "  <thead>\n",
       "    <tr style=\"text-align: right;\">\n",
       "      <th>effective_disposition</th>\n",
       "      <th>continents</th>\n",
       "      <th>sample_pulls__language</th>\n",
       "      <th>projects__study_types_ids</th>\n",
       "      <th>projects__study_types_subject_ids</th>\n",
       "      <th>suppliers__ref</th>\n",
       "      <th>median_profit_per_respondent</th>\n",
       "      <th>weighted_suppliers_median_complete_ratio</th>\n",
       "    </tr>\n",
       "  </thead>\n",
       "  <tbody>\n",
       "    <tr>\n",
       "      <th>0</th>\n",
       "      <td>africa</td>\n",
       "      <td>ara</td>\n",
       "      <td>b2b</td>\n",
       "      <td>other</td>\n",
       "      <td>271</td>\n",
       "      <td>14.857143</td>\n",
       "      <td>0.543478</td>\n",
       "    </tr>\n",
       "    <tr>\n",
       "      <th>1</th>\n",
       "      <td>africa</td>\n",
       "      <td>eng</td>\n",
       "      <td>b2b</td>\n",
       "      <td>it_decision_maker</td>\n",
       "      <td>271</td>\n",
       "      <td>16.076190</td>\n",
       "      <td>0.000000</td>\n",
       "    </tr>\n",
       "    <tr>\n",
       "      <th>3</th>\n",
       "      <td>africa</td>\n",
       "      <td>eng</td>\n",
       "      <td>consumer_study</td>\n",
       "      <td>finance_legal_insurance</td>\n",
       "      <td>271</td>\n",
       "      <td>3.814839</td>\n",
       "      <td>0.206678</td>\n",
       "    </tr>\n",
       "    <tr>\n",
       "      <th>8</th>\n",
       "      <td>africa</td>\n",
       "      <td>eng</td>\n",
       "      <td>consumer_study</td>\n",
       "      <td>finance_legal_insurance</td>\n",
       "      <td>601</td>\n",
       "      <td>3.814839</td>\n",
       "      <td>0.192698</td>\n",
       "    </tr>\n",
       "    <tr>\n",
       "      <th>5</th>\n",
       "      <td>africa</td>\n",
       "      <td>eng</td>\n",
       "      <td>consumer_study</td>\n",
       "      <td>finance_legal_insurance</td>\n",
       "      <td>537</td>\n",
       "      <td>3.814839</td>\n",
       "      <td>0.138657</td>\n",
       "    </tr>\n",
       "  </tbody>\n",
       "</table>\n",
       "</div>"
      ],
      "text/plain": [
       "effective_disposition continents sample_pulls__language  \\\n",
       "0                         africa                    ara   \n",
       "1                         africa                    eng   \n",
       "3                         africa                    eng   \n",
       "8                         africa                    eng   \n",
       "5                         africa                    eng   \n",
       "\n",
       "effective_disposition projects__study_types_ids  \\\n",
       "0                                           b2b   \n",
       "1                                           b2b   \n",
       "3                                consumer_study   \n",
       "8                                consumer_study   \n",
       "5                                consumer_study   \n",
       "\n",
       "effective_disposition projects__study_types_subject_ids  suppliers__ref  \\\n",
       "0                                                 other             271   \n",
       "1                                     it_decision_maker             271   \n",
       "3                               finance_legal_insurance             271   \n",
       "8                               finance_legal_insurance             601   \n",
       "5                               finance_legal_insurance             537   \n",
       "\n",
       "effective_disposition  median_profit_per_respondent  \\\n",
       "0                                         14.857143   \n",
       "1                                         16.076190   \n",
       "3                                          3.814839   \n",
       "8                                          3.814839   \n",
       "5                                          3.814839   \n",
       "\n",
       "effective_disposition  weighted_suppliers_median_complete_ratio  \n",
       "0                                                      0.543478  \n",
       "1                                                      0.000000  \n",
       "3                                                      0.206678  \n",
       "8                                                      0.192698  \n",
       "5                                                      0.138657  "
      ]
     },
     "execution_count": 18,
     "metadata": {},
     "output_type": "execute_result"
    }
   ],
   "source": [
    "f2 = f2[['continents', 'sample_pulls__language', 'projects__study_types_ids', 'projects__study_types_subject_ids', 'suppliers__ref', 'median_profit_per_respondent', 'weighted_suppliers_median_complete_ratio']]\n",
    "f2.head()"
   ]
  },
  {
   "cell_type": "code",
   "execution_count": 19,
   "metadata": {},
   "outputs": [],
   "source": [
    "f2.to_csv('dataset/01_continent_lang_study_subject_weighted_suppliers_average_profit.csv', index=False)"
   ]
  },
  {
   "cell_type": "markdown",
   "metadata": {},
   "source": [
    "## 5.3 Continent_study"
   ]
  },
  {
   "cell_type": "code",
   "execution_count": 20,
   "metadata": {},
   "outputs": [],
   "source": [
    "temp = df.groupby(['continents', 'projects__study_types_ids', 'suppliers__ref', 'effective_disposition']).effective_disposition.count().reset_index(name='counts')\n",
    "\n",
    "f3 = pd.pivot_table(temp, values='counts', index=['continents', 'projects__study_types_ids', 'suppliers__ref'], columns='effective_disposition').fillna(0)"
   ]
  },
  {
   "cell_type": "code",
   "execution_count": 21,
   "metadata": {},
   "outputs": [],
   "source": [
    "f3['weighted_quote_avg_cpi_median'] = df.groupby(['continents', 'projects__study_types_ids', 'suppliers__ref']).quote_average_cpi.median().values\n",
    "f3['weighted_suppliers_median_cpi'] = df.groupby(['continents', 'projects__study_types_ids', 'suppliers__ref']).sample_pulls__cost_per_interview.median().values\n",
    "f3['median_profit_per_respondent'] = f3['weighted_quote_avg_cpi_median'] - f3['weighted_suppliers_median_cpi']\n",
    "f3['profit_%'] = (f3['median_profit_per_respondent'] / f3['weighted_quote_avg_cpi_median'])*100\n",
    "\n",
    "f3['total_panelist'] = f3['complete'] + f3['over_quota'] + f3['security_terminate'] + f3['terminate']\n",
    "f3['accepted_panelist'] = f3['complete'] + f3['over_quota']\n",
    "f3['rejected_panelist'] = f3['security_terminate']+f3['terminate']\n",
    "f3['weighted_suppliers_median_complete_ratio'] = (f3['accepted_panelist'] / f3['total_panelist'])\n",
    "\n",
    "f3 = f3.reset_index()\n",
    "\n",
    "f3 = f3.sort_values(by=['continents', 'projects__study_types_ids', 'median_profit_per_respondent', \n",
    "'weighted_suppliers_median_complete_ratio'], ascending=[True, True, False, False])"
   ]
  },
  {
   "cell_type": "code",
   "execution_count": 22,
   "metadata": {},
   "outputs": [],
   "source": [
    "f3.to_csv('dataset/02_continent_study_weighted_suppliers_average_profit.csv', index=False)"
   ]
  },
  {
   "cell_type": "markdown",
   "metadata": {},
   "source": [
    "## 5.4 Continent Level Supplier Ranking"
   ]
  },
  {
   "cell_type": "code",
   "execution_count": 23,
   "metadata": {},
   "outputs": [],
   "source": [
    "temp = df.groupby(['continents', 'suppliers__ref', 'effective_disposition']).effective_disposition.count().reset_index(name='counts')\n",
    "\n",
    "f4 = pd.pivot_table(temp, values='counts', index=['continents', 'suppliers__ref'], columns='effective_disposition').fillna(0)"
   ]
  },
  {
   "cell_type": "code",
   "execution_count": 24,
   "metadata": {},
   "outputs": [],
   "source": [
    "f4['weighted_quote_avg_cpi_median'] = df.groupby(['continents', 'suppliers__ref']).quote_average_cpi.median().values\n",
    "f4['weighted_suppliers_median_cpi'] = df.groupby(['continents', 'suppliers__ref']).sample_pulls__cost_per_interview.median().values\n",
    "f4['median_profit_per_respondent'] = f4['weighted_quote_avg_cpi_median'] - f4['weighted_suppliers_median_cpi']\n",
    "f4['profit_%'] = (f4['median_profit_per_respondent'] / f4['weighted_quote_avg_cpi_median'])*100\n",
    "\n",
    "f4['total_panelist'] = f4['complete'] + f4['over_quota'] + f4['security_terminate'] + f4['terminate']\n",
    "f4['accepted_panelist'] = f4['complete'] + f4['over_quota']\n",
    "f4['rejected_panelist'] = f4['security_terminate']+f4['terminate']\n",
    "f4['weighted_suppliers_median_complete_ratio'] = (f4['accepted_panelist'] / f4['total_panelist'])\n",
    "\n",
    "f4 = f4.reset_index()\n",
    "\n",
    "f4 = f4.sort_values(by=['continents', 'median_profit_per_respondent', \n",
    "'weighted_suppliers_median_complete_ratio'], ascending=[True, False, False])"
   ]
  },
  {
   "cell_type": "code",
   "execution_count": 25,
   "metadata": {},
   "outputs": [],
   "source": [
    "f4.to_csv('dataset/03_continent_weighted_suppliers_average_profit.csv', index=False)"
   ]
  },
  {
   "cell_type": "markdown",
   "metadata": {},
   "source": [
    "## 5.5 Global Level Supplier Ranking"
   ]
  },
  {
   "cell_type": "code",
   "execution_count": 26,
   "metadata": {},
   "outputs": [],
   "source": [
    "temp = df.groupby(['suppliers__ref', 'effective_disposition']).effective_disposition.count().reset_index(name='counts')\n",
    "\n",
    "f5 = pd.pivot_table(temp, values='counts', index=['suppliers__ref'], columns='effective_disposition').fillna(0)"
   ]
  },
  {
   "cell_type": "code",
   "execution_count": 27,
   "metadata": {},
   "outputs": [],
   "source": [
    "f5['weighted_quote_avg_cpi_median'] = df.groupby(['suppliers__ref']).quote_average_cpi.median().values\n",
    "f5['weighted_suppliers_median_cpi'] = df.groupby(['suppliers__ref']).sample_pulls__cost_per_interview.median().values\n",
    "f5['median_profit_per_respondent'] = f5['weighted_quote_avg_cpi_median'] - f5['weighted_suppliers_median_cpi']\n",
    "f5['profit_%'] = (f5['median_profit_per_respondent'] / f5['weighted_quote_avg_cpi_median'])*100\n",
    "\n",
    "f5['total_panelist'] = f5['complete'] + f5['over_quota'] + f5['security_terminate'] + f5['terminate']\n",
    "f5['accepted_panelist'] = f5['complete'] + f5['over_quota']\n",
    "f5['rejected_panelist'] = f5['security_terminate']+f5['terminate']\n",
    "f5['weighted_suppliers_median_complete_ratio'] = (f5['accepted_panelist'] / f5['total_panelist'])\n",
    "\n",
    "f5 = f5.reset_index()\n",
    "\n",
    "f5 = f5.sort_values(by=['median_profit_per_respondent', \n",
    "'weighted_suppliers_median_complete_ratio'], ascending=[False, False])"
   ]
  },
  {
   "cell_type": "code",
   "execution_count": 28,
   "metadata": {},
   "outputs": [],
   "source": [
    "f5.to_csv('dataset/04_Global_weighted_suppliers_average_profit.csv', index=False)"
   ]
  }
 ],
 "metadata": {
  "interpreter": {
   "hash": "d437c2bd0d26a9909614bcc5b04828d6277ae5f269770a7161a0a726ff076161"
  },
  "kernelspec": {
   "display_name": "Python 3.9.0 ('myenv')",
   "language": "python",
   "name": "python3"
  },
  "language_info": {
   "codemirror_mode": {
    "name": "ipython",
    "version": 3
   },
   "file_extension": ".py",
   "mimetype": "text/x-python",
   "name": "python",
   "nbconvert_exporter": "python",
   "pygments_lexer": "ipython3",
   "version": "3.9.0"
  },
  "orig_nbformat": 4
 },
 "nbformat": 4,
 "nbformat_minor": 2
}
