{
 "cells": [
  {
   "cell_type": "markdown",
   "metadata": {},
   "source": [
    "#### Basic Ranking based Recommenders"
   ]
  },
  {
   "cell_type": "code",
   "execution_count": 21,
   "metadata": {},
   "outputs": [],
   "source": [
    "import os\n",
    "import pprint\n",
    "import tempfile\n",
    "import json\n",
    "\n",
    "from typing import Dict, Text\n",
    "import pandas as pd\n",
    "import numpy as np\n",
    "import tensorflow as tf\n",
    "import tensorflow_datasets as tfds\n",
    "import tensorflow_recommenders as tfrs\n",
    "\n",
    "import warnings\n",
    "warnings.filterwarnings(\"ignore\")"
   ]
  },
  {
   "cell_type": "code",
   "execution_count": 2,
   "metadata": {},
   "outputs": [
    {
     "data": {
      "text/html": [
       "<div>\n",
       "<style scoped>\n",
       "    .dataframe tbody tr th:only-of-type {\n",
       "        vertical-align: middle;\n",
       "    }\n",
       "\n",
       "    .dataframe tbody tr th {\n",
       "        vertical-align: top;\n",
       "    }\n",
       "\n",
       "    .dataframe thead th {\n",
       "        text-align: right;\n",
       "    }\n",
       "</style>\n",
       "<table border=\"1\" class=\"dataframe\">\n",
       "  <thead>\n",
       "    <tr style=\"text-align: right;\">\n",
       "      <th></th>\n",
       "      <th>suppliers__ref</th>\n",
       "      <th>projects__study_types_subject_ids</th>\n",
       "      <th>positive_score</th>\n",
       "    </tr>\n",
       "  </thead>\n",
       "  <tbody>\n",
       "    <tr>\n",
       "      <th>10</th>\n",
       "      <td>africa@ara@271</td>\n",
       "      <td>b2b@other</td>\n",
       "      <td>1.288021</td>\n",
       "    </tr>\n",
       "    <tr>\n",
       "      <th>78</th>\n",
       "      <td>africa@eng@124</td>\n",
       "      <td>consumer_study@finance_legal_insurance</td>\n",
       "      <td>0.292984</td>\n",
       "    </tr>\n",
       "    <tr>\n",
       "      <th>95</th>\n",
       "      <td>africa@eng@124</td>\n",
       "      <td>consumer_study@travel</td>\n",
       "      <td>0.292984</td>\n",
       "    </tr>\n",
       "    <tr>\n",
       "      <th>133</th>\n",
       "      <td>africa@eng@271</td>\n",
       "      <td>consumer_study@finance_legal_insurance</td>\n",
       "      <td>0.477862</td>\n",
       "    </tr>\n",
       "    <tr>\n",
       "      <th>139</th>\n",
       "      <td>africa@eng@271</td>\n",
       "      <td>consumer_study@other</td>\n",
       "      <td>0.965878</td>\n",
       "    </tr>\n",
       "    <tr>\n",
       "      <th>...</th>\n",
       "      <td>...</td>\n",
       "      <td>...</td>\n",
       "      <td>...</td>\n",
       "    </tr>\n",
       "    <tr>\n",
       "      <th>36157</th>\n",
       "      <td>south-america@spa@537</td>\n",
       "      <td>consumer_study@entertainment</td>\n",
       "      <td>1.125698</td>\n",
       "    </tr>\n",
       "    <tr>\n",
       "      <th>36164</th>\n",
       "      <td>south-america@spa@537</td>\n",
       "      <td>consumer_study@other</td>\n",
       "      <td>1.148922</td>\n",
       "    </tr>\n",
       "    <tr>\n",
       "      <th>36170</th>\n",
       "      <td>south-america@spa@537</td>\n",
       "      <td>consumer_study@shopping_ecommerce</td>\n",
       "      <td>0.073925</td>\n",
       "    </tr>\n",
       "    <tr>\n",
       "      <th>36212</th>\n",
       "      <td>south-america@spa@601</td>\n",
       "      <td>consumer_study@entertainment</td>\n",
       "      <td>1.960784</td>\n",
       "    </tr>\n",
       "    <tr>\n",
       "      <th>36219</th>\n",
       "      <td>south-america@spa@601</td>\n",
       "      <td>consumer_study@other</td>\n",
       "      <td>1.042654</td>\n",
       "    </tr>\n",
       "  </tbody>\n",
       "</table>\n",
       "<p>2433 rows × 3 columns</p>\n",
       "</div>"
      ],
      "text/plain": [
       "              suppliers__ref       projects__study_types_subject_ids  \\\n",
       "10            africa@ara@271                               b2b@other   \n",
       "78            africa@eng@124  consumer_study@finance_legal_insurance   \n",
       "95            africa@eng@124                   consumer_study@travel   \n",
       "133           africa@eng@271  consumer_study@finance_legal_insurance   \n",
       "139           africa@eng@271                    consumer_study@other   \n",
       "...                      ...                                     ...   \n",
       "36157  south-america@spa@537            consumer_study@entertainment   \n",
       "36164  south-america@spa@537                    consumer_study@other   \n",
       "36170  south-america@spa@537      consumer_study@shopping_ecommerce    \n",
       "36212  south-america@spa@601            consumer_study@entertainment   \n",
       "36219  south-america@spa@601                    consumer_study@other   \n",
       "\n",
       "       positive_score  \n",
       "10           1.288021  \n",
       "78           0.292984  \n",
       "95           0.292984  \n",
       "133          0.477862  \n",
       "139          0.965878  \n",
       "...               ...  \n",
       "36157        1.125698  \n",
       "36164        1.148922  \n",
       "36170        0.073925  \n",
       "36212        1.960784  \n",
       "36219        1.042654  \n",
       "\n",
       "[2433 rows x 3 columns]"
      ]
     },
     "execution_count": 2,
     "metadata": {},
     "output_type": "execute_result"
    }
   ],
   "source": [
    "positive_samples = pd.read_csv('adj_matrx_v2/01_adjacency_continent_lang_study_subject_weighted_suppliers_average_profit.csv')\n",
    "suppliers = positive_samples.suppliers_info.values.tolist()\n",
    "positive_samples = positive_samples.set_index('suppliers_info')\n",
    "positive_samples = positive_samples.sort_index()\n",
    "positive_samples = positive_samples.stack().reset_index()\n",
    "\n",
    "positive_samples.columns = ['suppliers__ref', 'projects__study_types_subject_ids', 'positive_score']\n",
    "\n",
    "positive_samples['suppliers__ref'] = positive_samples['suppliers__ref'].astype('str')\n",
    "positive_samples['positive_score'] = positive_samples['positive_score'].astype('float32')\n",
    "positive_samples = positive_samples[positive_samples.positive_score != 0.0]\n",
    "positive_samples\n",
    "# test = pd.pivot(positive_samples, index=['suppliers__ref'], columns='projects__study_types_subject_ids', values='positive_score')"
   ]
  },
  {
   "cell_type": "code",
   "execution_count": 23,
   "metadata": {},
   "outputs": [],
   "source": [
    "unique_suppliers_subjects_lookup = {'unique_suppliers' : positive_samples.suppliers__ref.unique().tolist(), 'unique_subjects':positive_samples.projects__study_types_subject_ids.unique().tolist()}\n",
    "\n",
    "json_obj = json.dumps(unique_suppliers_subjects_lookup, indent=4)\n",
    "\n",
    "with open('utils_v2/continent_lang_study_sub_unique_suppliers_subjects_lookup.json', 'w') as f:\n",
    "    f.write(json_obj)"
   ]
  },
  {
   "cell_type": "markdown",
   "metadata": {},
   "source": [
    "#### 1. Preparing The Dataset"
   ]
  },
  {
   "cell_type": "code",
   "execution_count": 3,
   "metadata": {},
   "outputs": [],
   "source": [
    "# features = ['region_cntry_lang_supplier', 'projects__study_types_subject_ids']\n",
    "# target = []\n",
    "\n",
    "training_dataset = (\n",
    "    tf.data.Dataset.from_tensor_slices(\n",
    "        (\n",
    "            tf.cast(positive_samples['suppliers__ref'].values, tf.string),\n",
    "            tf.cast(positive_samples['projects__study_types_subject_ids'].values, tf.string),\n",
    "            tf.cast(positive_samples['positive_score'].values, tf.float32)\n",
    "        )\n",
    "    )\n",
    ")\n",
    "\n",
    "ratings = training_dataset.map(lambda x,y,z: {\n",
    "    \"subject_id\": y,\n",
    "    \"supplier_id\": x,\n",
    "    \"score\": z,\n",
    "})\n",
    "\n",
    "subjects = ratings.map(lambda x:x['subject_id'])\n",
    "\n",
    "unique_subjects = positive_samples['projects__study_types_subject_ids'].unique()\n",
    "unique_suppliers = positive_samples['suppliers__ref'].unique()"
   ]
  },
  {
   "cell_type": "code",
   "execution_count": 4,
   "metadata": {},
   "outputs": [],
   "source": [
    "tf.random.set_seed(42)\n",
    "shuffled = ratings.shuffle(100_000, seed=42, reshuffle_each_iteration=False)\n",
    "\n",
    "train = shuffled.take(80_000)\n",
    "test = shuffled.skip(80_000).take(20_000)"
   ]
  },
  {
   "cell_type": "markdown",
   "metadata": {},
   "source": [
    "##### 2. Implementing a model"
   ]
  },
  {
   "cell_type": "code",
   "execution_count": 5,
   "metadata": {},
   "outputs": [],
   "source": [
    "class RankingModel(tf.keras.Model):\n",
    "\n",
    "  def __init__(self):\n",
    "    super().__init__()\n",
    "    embedding_dimension = 64\n",
    "\n",
    "    # Compute embeddings for users.\n",
    "    self.supplier_embeddings = tf.keras.Sequential([\n",
    "      tf.keras.layers.StringLookup(\n",
    "        vocabulary=unique_suppliers, mask_token=None),\n",
    "      tf.keras.layers.Embedding(len(unique_suppliers) + 1, embedding_dimension)\n",
    "    ])\n",
    "\n",
    "    # Compute embeddings for movies.\n",
    "    self.subject_embeddings = tf.keras.Sequential([\n",
    "      tf.keras.layers.StringLookup(\n",
    "        vocabulary=unique_subjects, mask_token=None),\n",
    "      tf.keras.layers.Embedding(len(unique_subjects) + 1, embedding_dimension)\n",
    "    ])\n",
    "\n",
    "    # Compute predictions.\n",
    "    self.ratings = tf.keras.Sequential([\n",
    "      # Learn multiple dense layers.\n",
    "      tf.keras.layers.Dense(256, activation=\"relu\"),\n",
    "      tf.keras.layers.Dense(64, activation=\"leaky_relu\"),\n",
    "      tf.keras.layers.Dense(32, activation=\"leaky_relu\"),\n",
    "      tf.keras.layers.Dense(16, activation=\"relu\"),\n",
    "      # Make rating predictions in the final layer.\n",
    "      tf.keras.layers.Dense(1)\n",
    "  ])\n",
    "\n",
    "  def call(self, inputs):\n",
    "\n",
    "    supplier_id, subject_id = inputs\n",
    "\n",
    "    supplier_embedding = self.supplier_embeddings(supplier_id)\n",
    "    subject_embedding = self.subject_embeddings(subject_id)\n",
    "\n",
    "    return self.ratings(tf.concat([supplier_embedding, subject_embedding], axis=1))"
   ]
  },
  {
   "cell_type": "code",
   "execution_count": 6,
   "metadata": {},
   "outputs": [],
   "source": [
    "class SupplierRecommender(tfrs.models.Model):\n",
    "\n",
    "  def __init__(self):\n",
    "    super().__init__()\n",
    "    self.ranking_model: tf.keras.Model = RankingModel()\n",
    "    self.task: tf.keras.layers.Layer = tfrs.tasks.Ranking(\n",
    "      loss = tf.keras.losses.MeanSquaredError(),\n",
    "      metrics=[tf.keras.metrics.RootMeanSquaredError()]\n",
    "    )\n",
    "\n",
    "  def call(self, features: Dict[str, tf.Tensor]) -> tf.Tensor:\n",
    "    return self.ranking_model(\n",
    "        (features[\"supplier_id\"], features[\"subject_id\"]))\n",
    "\n",
    "  def compute_loss(self, features: Dict[Text, tf.Tensor], training=False) -> tf.Tensor:\n",
    "    labels = features.pop(\"score\")\n",
    "\n",
    "    rating_predictions = self(features)\n",
    "\n",
    "    # The task computes the loss and the metrics.\n",
    "    return self.task(labels=labels, predictions=rating_predictions)"
   ]
  },
  {
   "cell_type": "code",
   "execution_count": 7,
   "metadata": {},
   "outputs": [],
   "source": [
    "cached_train = train.shuffle(100_000).batch(10).cache()\n",
    "cached_test = test.batch(2).cache()"
   ]
  },
  {
   "cell_type": "markdown",
   "metadata": {},
   "source": [
    "#### 3. Model Train"
   ]
  },
  {
   "cell_type": "code",
   "execution_count": 8,
   "metadata": {},
   "outputs": [
    {
     "name": "stdout",
     "output_type": "stream",
     "text": [
      "244/244 [==============================] - 1s 3ms/step - root_mean_squared_error: 0.1282 - loss: 0.0163 - regularization_loss: 0.0000e+00 - total_loss: 0.0163\n",
      "Epoch 65/2000\n",
      "244/244 [==============================] - 1s 3ms/step - root_mean_squared_error: 0.1096 - loss: 0.0119 - regularization_loss: 0.0000e+00 - total_loss: 0.0119\n",
      "Epoch 66/2000\n",
      "244/244 [==============================] - 1s 3ms/step - root_mean_squared_error: 0.1257 - loss: 0.0157 - regularization_loss: 0.0000e+00 - total_loss: 0.0157\n",
      "Epoch 67/2000\n",
      "244/244 [==============================] - 1s 3ms/step - root_mean_squared_error: 0.1690 - loss: 0.0284 - regularization_loss: 0.0000e+00 - total_loss: 0.0284\n",
      "Epoch 68/2000\n",
      "244/244 [==============================] - 1s 3ms/step - root_mean_squared_error: 0.1774 - loss: 0.0313 - regularization_loss: 0.0000e+00 - total_loss: 0.0313\n",
      "Epoch 69/2000\n",
      "244/244 [==============================] - 1s 2ms/step - root_mean_squared_error: 0.1272 - loss: 0.0161 - regularization_loss: 0.0000e+00 - total_loss: 0.0161\n",
      "Epoch 70/2000\n",
      "244/244 [==============================] - 1s 3ms/step - root_mean_squared_error: 0.1885 - loss: 0.0353 - regularization_loss: 0.0000e+00 - total_loss: 0.0353\n",
      "Epoch 71/2000\n",
      "244/244 [==============================] - 1s 3ms/step - root_mean_squared_error: 0.0921 - loss: 0.0084 - regularization_loss: 0.0000e+00 - total_loss: 0.0084\n",
      "Epoch 72/2000\n",
      "238/244 [============================>.] - ETA: 0s - root_mean_squared_error: 0.0587 - loss: 0.0034 - regularization_loss: 0.0000e+00 - total_loss: 0.0034"
     ]
    },
    {
     "name": "stderr",
     "output_type": "stream",
     "text": [
      "WARNING:absl:Found untraced functions such as ranking_layer_call_fn, ranking_layer_call_and_return_conditional_losses while saving (showing 2 of 2). These functions will not be directly callable after loading.\n"
     ]
    },
    {
     "name": "stdout",
     "output_type": "stream",
     "text": [
      "INFO:tensorflow:Assets written to: models_2/final_model_weights\\assets\n"
     ]
    },
    {
     "name": "stderr",
     "output_type": "stream",
     "text": [
      "INFO:tensorflow:Assets written to: models_2/final_model_weights\\assets\n"
     ]
    },
    {
     "name": "stdout",
     "output_type": "stream",
     "text": [
      "244/244 [==============================] - 2s 10ms/step - root_mean_squared_error: 0.0586 - loss: 0.0034 - regularization_loss: 0.0000e+00 - total_loss: 0.0034\n",
      "Epoch 73/2000\n",
      "240/244 [============================>.] - ETA: 0s - root_mean_squared_error: 0.0514 - loss: 0.0026 - regularization_loss: 0.0000e+00 - total_loss: 0.0026"
     ]
    },
    {
     "name": "stderr",
     "output_type": "stream",
     "text": [
      "WARNING:absl:Found untraced functions such as ranking_layer_call_fn, ranking_layer_call_and_return_conditional_losses while saving (showing 2 of 2). These functions will not be directly callable after loading.\n"
     ]
    },
    {
     "name": "stdout",
     "output_type": "stream",
     "text": [
      "INFO:tensorflow:Assets written to: models_2/final_model_weights\\assets\n"
     ]
    },
    {
     "name": "stderr",
     "output_type": "stream",
     "text": [
      "INFO:tensorflow:Assets written to: models_2/final_model_weights\\assets\n"
     ]
    },
    {
     "name": "stdout",
     "output_type": "stream",
     "text": [
      "244/244 [==============================] - 2s 9ms/step - root_mean_squared_error: 0.0512 - loss: 0.0026 - regularization_loss: 0.0000e+00 - total_loss: 0.0026\n",
      "Epoch 74/2000\n",
      "243/244 [============================>.] - ETA: 0s - root_mean_squared_error: 0.0499 - loss: 0.0025 - regularization_loss: 0.0000e+00 - total_loss: 0.0025"
     ]
    },
    {
     "name": "stderr",
     "output_type": "stream",
     "text": [
      "WARNING:absl:Found untraced functions such as ranking_layer_call_fn, ranking_layer_call_and_return_conditional_losses while saving (showing 2 of 2). These functions will not be directly callable after loading.\n"
     ]
    },
    {
     "name": "stdout",
     "output_type": "stream",
     "text": [
      "INFO:tensorflow:Assets written to: models_2/final_model_weights\\assets\n"
     ]
    },
    {
     "name": "stderr",
     "output_type": "stream",
     "text": [
      "INFO:tensorflow:Assets written to: models_2/final_model_weights\\assets\n"
     ]
    },
    {
     "name": "stdout",
     "output_type": "stream",
     "text": [
      "244/244 [==============================] - 2s 10ms/step - root_mean_squared_error: 0.0498 - loss: 0.0025 - regularization_loss: 0.0000e+00 - total_loss: 0.0025\n",
      "Epoch 75/2000\n",
      "236/244 [============================>.] - ETA: 0s - root_mean_squared_error: 0.0462 - loss: 0.0021 - regularization_loss: 0.0000e+00 - total_loss: 0.0021"
     ]
    },
    {
     "name": "stderr",
     "output_type": "stream",
     "text": [
      "WARNING:absl:Found untraced functions such as ranking_layer_call_fn, ranking_layer_call_and_return_conditional_losses while saving (showing 2 of 2). These functions will not be directly callable after loading.\n"
     ]
    },
    {
     "name": "stdout",
     "output_type": "stream",
     "text": [
      "INFO:tensorflow:Assets written to: models_2/final_model_weights\\assets\n"
     ]
    },
    {
     "name": "stderr",
     "output_type": "stream",
     "text": [
      "INFO:tensorflow:Assets written to: models_2/final_model_weights\\assets\n"
     ]
    },
    {
     "name": "stdout",
     "output_type": "stream",
     "text": [
      "244/244 [==============================] - 2s 9ms/step - root_mean_squared_error: 0.0457 - loss: 0.0021 - regularization_loss: 0.0000e+00 - total_loss: 0.0021\n",
      "Epoch 76/2000\n",
      "244/244 [==============================] - 0s 2ms/step - root_mean_squared_error: 0.0469 - loss: 0.0022 - regularization_loss: 0.0000e+00 - total_loss: 0.0022\n",
      "Epoch 77/2000\n",
      "244/244 [==============================] - 0s 2ms/step - root_mean_squared_error: 0.0505 - loss: 0.0025 - regularization_loss: 0.0000e+00 - total_loss: 0.0025\n",
      "Epoch 78/2000\n",
      "244/244 [==============================] - 0s 2ms/step - root_mean_squared_error: 0.0892 - loss: 0.0079 - regularization_loss: 0.0000e+00 - total_loss: 0.0079\n",
      "Epoch 79/2000\n",
      "244/244 [==============================] - 0s 2ms/step - root_mean_squared_error: 0.1473 - loss: 0.0216 - regularization_loss: 0.0000e+00 - total_loss: 0.0216\n",
      "Epoch 80/2000\n",
      "244/244 [==============================] - 0s 2ms/step - root_mean_squared_error: 0.1583 - loss: 0.0249 - regularization_loss: 0.0000e+00 - total_loss: 0.0249\n",
      "Epoch 81/2000\n",
      "244/244 [==============================] - 1s 2ms/step - root_mean_squared_error: 0.1754 - loss: 0.0306 - regularization_loss: 0.0000e+00 - total_loss: 0.0306\n",
      "Epoch 82/2000\n",
      "244/244 [==============================] - 0s 2ms/step - root_mean_squared_error: 0.1555 - loss: 0.0240 - regularization_loss: 0.0000e+00 - total_loss: 0.0240\n",
      "Epoch 83/2000\n",
      "244/244 [==============================] - 0s 2ms/step - root_mean_squared_error: 0.0717 - loss: 0.0051 - regularization_loss: 0.0000e+00 - total_loss: 0.0051\n",
      "Epoch 84/2000\n",
      "244/244 [==============================] - 0s 2ms/step - root_mean_squared_error: 0.0562 - loss: 0.0031 - regularization_loss: 0.0000e+00 - total_loss: 0.0031\n",
      "Epoch 85/2000\n",
      "244/244 [==============================] - 1s 2ms/step - root_mean_squared_error: 0.0511 - loss: 0.0026 - regularization_loss: 0.0000e+00 - total_loss: 0.0026\n",
      "Epoch 86/2000\n",
      "244/244 [==============================] - 1s 2ms/step - root_mean_squared_error: 0.0541 - loss: 0.0029 - regularization_loss: 0.0000e+00 - total_loss: 0.0029\n",
      "Epoch 87/2000\n",
      "244/244 [==============================] - 1s 2ms/step - root_mean_squared_error: 0.0628 - loss: 0.0039 - regularization_loss: 0.0000e+00 - total_loss: 0.0039\n",
      "Epoch 88/2000\n",
      "244/244 [==============================] - 0s 2ms/step - root_mean_squared_error: 0.0618 - loss: 0.0038 - regularization_loss: 0.0000e+00 - total_loss: 0.0038\n",
      "Epoch 89/2000\n",
      "244/244 [==============================] - 0s 2ms/step - root_mean_squared_error: 0.1038 - loss: 0.0107 - regularization_loss: 0.0000e+00 - total_loss: 0.0107\n",
      "Epoch 90/2000\n",
      "244/244 [==============================] - 0s 2ms/step - root_mean_squared_error: 0.1111 - loss: 0.0123 - regularization_loss: 0.0000e+00 - total_loss: 0.0123\n",
      "Epoch 91/2000\n",
      "244/244 [==============================] - 0s 2ms/step - root_mean_squared_error: 0.1180 - loss: 0.0138 - regularization_loss: 0.0000e+00 - total_loss: 0.0138\n",
      "Epoch 92/2000\n",
      "244/244 [==============================] - 0s 2ms/step - root_mean_squared_error: 0.0869 - loss: 0.0075 - regularization_loss: 0.0000e+00 - total_loss: 0.0075\n",
      "Epoch 93/2000\n",
      "244/244 [==============================] - 1s 2ms/step - root_mean_squared_error: 0.0968 - loss: 0.0093 - regularization_loss: 0.0000e+00 - total_loss: 0.0093\n",
      "Epoch 94/2000\n",
      "244/244 [==============================] - 1s 2ms/step - root_mean_squared_error: 0.0902 - loss: 0.0081 - regularization_loss: 0.0000e+00 - total_loss: 0.0081\n",
      "Epoch 95/2000\n",
      "244/244 [==============================] - 0s 2ms/step - root_mean_squared_error: 0.0999 - loss: 0.0099 - regularization_loss: 0.0000e+00 - total_loss: 0.0099\n",
      "Epoch 96/2000\n",
      "244/244 [==============================] - 0s 2ms/step - root_mean_squared_error: 0.1422 - loss: 0.0201 - regularization_loss: 0.0000e+00 - total_loss: 0.0201\n",
      "Epoch 97/2000\n",
      "244/244 [==============================] - 0s 2ms/step - root_mean_squared_error: 0.1599 - loss: 0.0254 - regularization_loss: 0.0000e+00 - total_loss: 0.0254\n",
      "Epoch 98/2000\n",
      "244/244 [==============================] - 0s 2ms/step - root_mean_squared_error: 0.1117 - loss: 0.0124 - regularization_loss: 0.0000e+00 - total_loss: 0.0124\n",
      "Epoch 99/2000\n",
      "244/244 [==============================] - 0s 2ms/step - root_mean_squared_error: 0.0720 - loss: 0.0052 - regularization_loss: 0.0000e+00 - total_loss: 0.0052\n",
      "Epoch 100/2000\n",
      "244/244 [==============================] - 1s 2ms/step - root_mean_squared_error: 0.0613 - loss: 0.0037 - regularization_loss: 0.0000e+00 - total_loss: 0.0037\n",
      "Epoch 101/2000\n",
      "244/244 [==============================] - 0s 2ms/step - root_mean_squared_error: 0.0504 - loss: 0.0025 - regularization_loss: 0.0000e+00 - total_loss: 0.0025\n",
      "Epoch 102/2000\n",
      "244/244 [==============================] - 0s 2ms/step - root_mean_squared_error: 0.0496 - loss: 0.0024 - regularization_loss: 0.0000e+00 - total_loss: 0.0024\n",
      "Epoch 103/2000\n",
      "244/244 [==============================] - 0s 2ms/step - root_mean_squared_error: 0.0653 - loss: 0.0042 - regularization_loss: 0.0000e+00 - total_loss: 0.0042\n",
      "Epoch 104/2000\n",
      "244/244 [==============================] - 0s 2ms/step - root_mean_squared_error: 0.0952 - loss: 0.0090 - regularization_loss: 0.0000e+00 - total_loss: 0.0090\n",
      "Epoch 105/2000\n",
      "244/244 [==============================] - 0s 2ms/step - root_mean_squared_error: 0.1296 - loss: 0.0167 - regularization_loss: 0.0000e+00 - total_loss: 0.0167\n",
      "Epoch 106/2000\n",
      "244/244 [==============================] - 0s 2ms/step - root_mean_squared_error: 0.0903 - loss: 0.0081 - regularization_loss: 0.0000e+00 - total_loss: 0.0081\n",
      "Epoch 107/2000\n",
      "244/244 [==============================] - 1s 2ms/step - root_mean_squared_error: 0.1253 - loss: 0.0156 - regularization_loss: 0.0000e+00 - total_loss: 0.0156\n",
      "Epoch 108/2000\n",
      "244/244 [==============================] - 0s 2ms/step - root_mean_squared_error: 0.1325 - loss: 0.0174 - regularization_loss: 0.0000e+00 - total_loss: 0.0174\n",
      "Epoch 109/2000\n",
      "244/244 [==============================] - 1s 2ms/step - root_mean_squared_error: 0.1039 - loss: 0.0107 - regularization_loss: 0.0000e+00 - total_loss: 0.0107\n",
      "Epoch 110/2000\n",
      "244/244 [==============================] - 1s 2ms/step - root_mean_squared_error: 0.0665 - loss: 0.0044 - regularization_loss: 0.0000e+00 - total_loss: 0.0044\n",
      "Epoch 111/2000\n",
      "244/244 [==============================] - 0s 2ms/step - root_mean_squared_error: 0.0876 - loss: 0.0076 - regularization_loss: 0.0000e+00 - total_loss: 0.0076\n",
      "Epoch 112/2000\n",
      "244/244 [==============================] - 0s 2ms/step - root_mean_squared_error: 0.0605 - loss: 0.0036 - regularization_loss: 0.0000e+00 - total_loss: 0.0036\n",
      "Epoch 113/2000\n",
      "244/244 [==============================] - 1s 2ms/step - root_mean_squared_error: 0.0766 - loss: 0.0058 - regularization_loss: 0.0000e+00 - total_loss: 0.0058\n",
      "Epoch 114/2000\n",
      "244/244 [==============================] - 1s 2ms/step - root_mean_squared_error: 0.1164 - loss: 0.0135 - regularization_loss: 0.0000e+00 - total_loss: 0.0135\n",
      "Epoch 115/2000\n",
      "244/244 [==============================] - 0s 2ms/step - root_mean_squared_error: 0.1291 - loss: 0.0165 - regularization_loss: 0.0000e+00 - total_loss: 0.0165\n",
      "Epoch 116/2000\n",
      "244/244 [==============================] - 0s 2ms/step - root_mean_squared_error: 0.0841 - loss: 0.0070 - regularization_loss: 0.0000e+00 - total_loss: 0.0070\n",
      "Epoch 117/2000\n",
      "244/244 [==============================] - 0s 2ms/step - root_mean_squared_error: 0.0903 - loss: 0.0081 - regularization_loss: 0.0000e+00 - total_loss: 0.0081\n",
      "Epoch 118/2000\n",
      "244/244 [==============================] - 0s 2ms/step - root_mean_squared_error: 0.1212 - loss: 0.0146 - regularization_loss: 0.0000e+00 - total_loss: 0.0146\n",
      "Epoch 119/2000\n",
      "244/244 [==============================] - 0s 2ms/step - root_mean_squared_error: 0.1189 - loss: 0.0141 - regularization_loss: 0.0000e+00 - total_loss: 0.0141\n",
      "Epoch 120/2000\n",
      "244/244 [==============================] - 0s 2ms/step - root_mean_squared_error: 0.0773 - loss: 0.0059 - regularization_loss: 0.0000e+00 - total_loss: 0.0059\n",
      "Epoch 121/2000\n",
      "244/244 [==============================] - 0s 2ms/step - root_mean_squared_error: 0.0668 - loss: 0.0044 - regularization_loss: 0.0000e+00 - total_loss: 0.0044\n",
      "Epoch 122/2000\n",
      "244/244 [==============================] - 0s 2ms/step - root_mean_squared_error: 0.0730 - loss: 0.0053 - regularization_loss: 0.0000e+00 - total_loss: 0.0053\n",
      "Epoch 123/2000\n",
      "244/244 [==============================] - 0s 2ms/step - root_mean_squared_error: 0.0732 - loss: 0.0053 - regularization_loss: 0.0000e+00 - total_loss: 0.0053\n",
      "Epoch 124/2000\n",
      "244/244 [==============================] - 0s 2ms/step - root_mean_squared_error: 0.0747 - loss: 0.0055 - regularization_loss: 0.0000e+00 - total_loss: 0.0055\n",
      "Epoch 125/2000\n",
      "244/244 [==============================] - 0s 2ms/step - root_mean_squared_error: 0.0612 - loss: 0.0037 - regularization_loss: 0.0000e+00 - total_loss: 0.0037\n"
     ]
    }
   ],
   "source": [
    "model = SupplierRecommender()\n",
    "model.compile(optimizer=tf.keras.optimizers.Adam(learning_rate=0.001))\n",
    "\n",
    "callback = tf.keras.callbacks.EarlyStopping(monitor='root_mean_squared_error', patience=50, restore_best_weights=True)\n",
    "\n",
    "checkpoint = tf.keras.callbacks.ModelCheckpoint('models_2/final_model_weights/', \\\n",
    "    save_best_only=True, monitor='root_mean_squared_error', mode='min')\n",
    "\n",
    "epoch=2000\n",
    "history = model.fit(cached_train, epochs=epoch, callbacks=[callback, checkpoint])"
   ]
  },
  {
   "cell_type": "code",
   "execution_count": 9,
   "metadata": {},
   "outputs": [
    {
     "data": {
      "image/png": "[encoded data removed]",
      "text/plain": [
       "<Figure size 1080x504 with 1 Axes>"
      ]
     },
     "metadata": {
      "needs_background": "light"
     },
     "output_type": "display_data"
    }
   ],
   "source": [
    "import matplotlib.pyplot as plt \n",
    "plt.figure(figsize=(15,7)) \n",
    "\n",
    "plt.plot(list(range(1, len(history.history['root_mean_squared_error'])+1)), history.history['root_mean_squared_error'])\n",
    "plt.xlabel(\"epochs\")\n",
    "plt.ylabel(\"rmse\")\n",
    "plt.show()"
   ]
  },
  {
   "cell_type": "code",
   "execution_count": 10,
   "metadata": {},
   "outputs": [
    {
     "data": {
      "image/png": "[encoded data removed]",
      "text/plain": [
       "<Figure size 1080x504 with 1 Axes>"
      ]
     },
     "metadata": {
      "needs_background": "light"
     },
     "output_type": "display_data"
    }
   ],
   "source": [
    "plt.figure(figsize=(15,7)) \n",
    "plt.plot(list(range(1, len(history.history['total_loss'])+1)), history.history['total_loss'])\n",
    "plt.xlabel(\"epochs\")\n",
    "plt.ylabel(\"total_loss\")\n",
    "plt.show()"
   ]
  },
  {
   "cell_type": "markdown",
   "metadata": {},
   "source": [
    "#### 4. Inference"
   ]
  },
  {
   "cell_type": "code",
   "execution_count": 11,
   "metadata": {},
   "outputs": [],
   "source": [
    "# preds = []\n",
    "\n",
    "# for i in positive_samples.itertuples():\n",
    "#     preds.append(model({\n",
    "#         \"supplier_id\": np.array([i[1]]),\n",
    "#         \"subject_id\": np.array([i[2]])\n",
    "#         }).numpy().tolist()[0][0])"
   ]
  },
  {
   "cell_type": "markdown",
   "metadata": {},
   "source": [
    "#### 5. Save Weights"
   ]
  },
  {
   "cell_type": "code",
   "execution_count": 12,
   "metadata": {},
   "outputs": [],
   "source": [
    "# import os\n",
    "\n",
    "# if not os.path.exists('models_2/final_model_weights/'):\n",
    "#     os.makedirs('models_2/final_model_weights/')\n",
    "    \n",
    "# model.save_weights('models_2/final_model_weights/')"
   ]
  },
  {
   "cell_type": "markdown",
   "metadata": {},
   "source": [
    "#### 6. Load Weights"
   ]
  },
  {
   "cell_type": "code",
   "execution_count": 13,
   "metadata": {},
   "outputs": [],
   "source": [
    "D = SupplierRecommender()\n",
    "D.compile(optimizer=tf.keras.optimizers.Adam(learning_rate=0.001))\n",
    "D.load_weights('models_2/final_model_weights/')\n",
    "\n",
    "preds = []\n",
    "\n",
    "for i in positive_samples.itertuples():\n",
    "    preds.append(D({\n",
    "        \"supplier_id\": np.array([i[1]]),\n",
    "        \"subject_id\": np.array([i[2]])\n",
    "        }).numpy().tolist()[0][0])"
   ]
  },
  {
   "cell_type": "code",
   "execution_count": 14,
   "metadata": {},
   "outputs": [],
   "source": [
    "act_pred = pd.DataFrame([preds, positive_samples['positive_score'].values.tolist()]).T\n",
    "act_pred.columns = ['preds', 'actual']"
   ]
  },
  {
   "cell_type": "code",
   "execution_count": 15,
   "metadata": {},
   "outputs": [
    {
     "data": {
      "text/html": [
       "<div>\n",
       "<style scoped>\n",
       "    .dataframe tbody tr th:only-of-type {\n",
       "        vertical-align: middle;\n",
       "    }\n",
       "\n",
       "    .dataframe tbody tr th {\n",
       "        vertical-align: top;\n",
       "    }\n",
       "\n",
       "    .dataframe thead th {\n",
       "        text-align: right;\n",
       "    }\n",
       "</style>\n",
       "<table border=\"1\" class=\"dataframe\">\n",
       "  <thead>\n",
       "    <tr style=\"text-align: right;\">\n",
       "      <th></th>\n",
       "      <th>preds</th>\n",
       "      <th>actual</th>\n",
       "    </tr>\n",
       "  </thead>\n",
       "  <tbody>\n",
       "    <tr>\n",
       "      <th>0</th>\n",
       "      <td>1.334971</td>\n",
       "      <td>1.288021</td>\n",
       "    </tr>\n",
       "    <tr>\n",
       "      <th>1</th>\n",
       "      <td>0.264755</td>\n",
       "      <td>0.292984</td>\n",
       "    </tr>\n",
       "    <tr>\n",
       "      <th>2</th>\n",
       "      <td>0.254784</td>\n",
       "      <td>0.292984</td>\n",
       "    </tr>\n",
       "    <tr>\n",
       "      <th>3</th>\n",
       "      <td>0.508455</td>\n",
       "      <td>0.477862</td>\n",
       "    </tr>\n",
       "    <tr>\n",
       "      <th>4</th>\n",
       "      <td>0.979096</td>\n",
       "      <td>0.965878</td>\n",
       "    </tr>\n",
       "    <tr>\n",
       "      <th>...</th>\n",
       "      <td>...</td>\n",
       "      <td>...</td>\n",
       "    </tr>\n",
       "    <tr>\n",
       "      <th>2428</th>\n",
       "      <td>1.120410</td>\n",
       "      <td>1.125698</td>\n",
       "    </tr>\n",
       "    <tr>\n",
       "      <th>2429</th>\n",
       "      <td>1.160680</td>\n",
       "      <td>1.148922</td>\n",
       "    </tr>\n",
       "    <tr>\n",
       "      <th>2430</th>\n",
       "      <td>0.063067</td>\n",
       "      <td>0.073925</td>\n",
       "    </tr>\n",
       "    <tr>\n",
       "      <th>2431</th>\n",
       "      <td>1.749063</td>\n",
       "      <td>1.960784</td>\n",
       "    </tr>\n",
       "    <tr>\n",
       "      <th>2432</th>\n",
       "      <td>1.053336</td>\n",
       "      <td>1.042654</td>\n",
       "    </tr>\n",
       "  </tbody>\n",
       "</table>\n",
       "<p>2433 rows × 2 columns</p>\n",
       "</div>"
      ],
      "text/plain": [
       "         preds    actual\n",
       "0     1.334971  1.288021\n",
       "1     0.264755  0.292984\n",
       "2     0.254784  0.292984\n",
       "3     0.508455  0.477862\n",
       "4     0.979096  0.965878\n",
       "...        ...       ...\n",
       "2428  1.120410  1.125698\n",
       "2429  1.160680  1.148922\n",
       "2430  0.063067  0.073925\n",
       "2431  1.749063  1.960784\n",
       "2432  1.053336  1.042654\n",
       "\n",
       "[2433 rows x 2 columns]"
      ]
     },
     "execution_count": 15,
     "metadata": {},
     "output_type": "execute_result"
    }
   ],
   "source": [
    "act_pred[act_pred.actual != 0.0]"
   ]
  },
  {
   "cell_type": "code",
   "execution_count": 20,
   "metadata": {},
   "outputs": [
    {
     "data": {
      "text/plain": [
       "(2, 2)"
      ]
     },
     "execution_count": 20,
     "metadata": {},
     "output_type": "execute_result"
    }
   ],
   "source": [
    "act_pred[act_pred.actual != 0.0][(act_pred.actual - act_pred.preds) > 1.0].shape"
   ]
  },
  {
   "cell_type": "code",
   "execution_count": 17,
   "metadata": {},
   "outputs": [
    {
     "data": {
      "text/plain": [
       "0.045718442648649216"
      ]
     },
     "execution_count": 17,
     "metadata": {},
     "output_type": "execute_result"
    }
   ],
   "source": [
    "min(history.history['root_mean_squared_error'])"
   ]
  }
 ],
 "metadata": {
  "interpreter": {
   "hash": "d437c2bd0d26a9909614bcc5b04828d6277ae5f269770a7161a0a726ff076161"
  },
  "kernelspec": {
   "display_name": "Python 3.9.0 ('myenv')",
   "language": "python",
   "name": "python3"
  },
  "language_info": {
   "codemirror_mode": {
    "name": "ipython",
    "version": 3
   },
   "file_extension": ".py",
   "mimetype": "text/x-python",
   "name": "python",
   "nbconvert_exporter": "python",
   "pygments_lexer": "ipython3",
   "version": "3.9.0"
  },
  "orig_nbformat": 4
 },
 "nbformat": 4,
 "nbformat_minor": 2
}
