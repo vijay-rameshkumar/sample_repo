{
 "cells": [
  {
   "cell_type": "code",
   "execution_count": 1,
   "metadata": {},
   "outputs": [
    {
     "name": "stderr",
     "output_type": "stream",
     "text": [
      "c:\\Users\\vijay.rameshkumar\\Anaconda3\\envs\\myenv\\lib\\site-packages\\numpy\\_distributor_init.py:30: UserWarning: loaded more than 1 DLL from .libs:\n",
      "c:\\Users\\vijay.rameshkumar\\Anaconda3\\envs\\myenv\\lib\\site-packages\\numpy\\.libs\\libopenblas.EL2C6PLE4ZYW3ECEVIV3OXXGRN2NRFM2.gfortran-win_amd64.dll\n",
      "c:\\Users\\vijay.rameshkumar\\Anaconda3\\envs\\myenv\\lib\\site-packages\\numpy\\.libs\\libopenblas.XWYDX2IKJW2NMTWSFYNGFUWKQU3LYTCZ.gfortran-win_amd64.dll\n",
      "  warnings.warn(\"loaded more than 1 DLL from .libs:\"\n"
     ]
    }
   ],
   "source": [
    "import pandas as pd\n",
    "import numpy as np\n",
    "\n",
    "import tensorflow as tf\n",
    "import tensorflow_datasets as tfds\n",
    "import tensorflow_recommenders as tfrs\n",
    "from typing import Dict, Text\n",
    "import pycountry_convert as pc\n",
    "import pycountry\n",
    "import json\n",
    "import seaborn as sns\n",
    "import matplotlib.pyplot as plt\n",
    "\n",
    "import warnings\n",
    "warnings.filterwarnings('ignore')"
   ]
  },
  {
   "cell_type": "code",
   "execution_count": 2,
   "metadata": {},
   "outputs": [],
   "source": [
    "def weighted_harmonic_mean(x, y, x_w=0.6, y_w=0.4):\n",
    "    if x!=0.0 and y != 0.0:\n",
    "        return 1 / ((x_w/x)+(y_w/y))\n",
    "    elif x==0.0 and y <= 0.0:\n",
    "        return 0.09\n",
    "    elif y<=0:\n",
    "        return 0\n",
    "    elif x<=0:\n",
    "        return 0"
   ]
  },
  {
   "cell_type": "markdown",
   "metadata": {},
   "source": [
    "## Adjacency Matrix 1"
   ]
  },
  {
   "cell_type": "code",
   "execution_count": 3,
   "metadata": {},
   "outputs": [],
   "source": [
    "df1 = pd.read_csv('dataset/01_continent_lang_study_subject_weighted_suppliers_average_profit.csv')\n",
    "\n",
    "supp = df1[['continents', 'sample_pulls__language', 'suppliers__ref']].values.tolist()\n",
    "sub = df1[['projects__study_types_ids', 'projects__study_types_subject_ids']].values.tolist()\n",
    "\n",
    "df1['suppliers_info'] = pd.Series([\"@\".join([str(k) for k in j]) for j in supp])\n",
    "df1['study_subject'] = pd.Series([\"@\".join(j) for j in sub])\n",
    "\n",
    "df1['score'] = list(map(weighted_harmonic_mean, df1.median_profit_per_respondent.values.tolist(), df1.weighted_suppliers_median_complete_ratio.values.tolist()))\n",
    "\n",
    "df1 = pd.pivot(df1, index='suppliers_info', columns='study_subject', values='score').fillna(0)\n",
    "\n",
    "df1.reset_index().to_csv('adj_matrx_v2/01_adjacency_continent_lang_study_subject_weighted_suppliers_average_profit.csv', index=False)"
   ]
  },
  {
   "cell_type": "markdown",
   "metadata": {},
   "source": [
    "## Adjacency Matrix 2"
   ]
  },
  {
   "cell_type": "code",
   "execution_count": 4,
   "metadata": {},
   "outputs": [],
   "source": [
    "df2 = pd.read_csv('dataset/02_continent_study_weighted_suppliers_average_profit.csv')\n",
    "\n",
    "supp = df2[['continents', 'suppliers__ref']].values.tolist()\n",
    "sub = df2[['projects__study_types_ids']].values.tolist()\n",
    "\n",
    "df2['suppliers_info'] = pd.Series([\"@\".join([str(k) for k in j]) for j in supp])\n",
    "df2['study'] = df2['projects__study_types_ids']\n",
    "\n",
    "df2['score'] = list(map(weighted_harmonic_mean, df2.median_profit_per_respondent.values.tolist(), df2.weighted_suppliers_median_complete_ratio.values.tolist()))\n",
    "\n",
    "df2 = pd.pivot(df2, index='suppliers_info', columns='study', values='score').fillna(0)\n",
    "\n",
    "df2.reset_index().to_csv('adj_matrx_v2/02_continent_study_weighted_suppliers_average_profit.csv', index=False)"
   ]
  },
  {
   "cell_type": "markdown",
   "metadata": {},
   "source": [
    "## Adjacency Matrix 3 - Weighted Harmonic Mean"
   ]
  },
  {
   "cell_type": "code",
   "execution_count": 5,
   "metadata": {},
   "outputs": [],
   "source": [
    "# df1 = pd.read_csv('dataset/01_continent_lang_study_subject_weighted_suppliers_average_profit.csv')\n",
    "\n",
    "# supp = df1[['continents', 'sample_pulls__language', 'suppliers__ref']].values.tolist()\n",
    "# sub = df1[['projects__study_types_ids', 'projects__study_types_subject_ids']].values.tolist()\n",
    "\n",
    "# df1['suppliers_info'] = pd.Series([\"@\".join([str(k) for k in j]) for j in supp])\n",
    "# df1['study_subject'] = pd.Series([\"@\".join(j) for j in sub])\n",
    "\n",
    "# scores1 = df1['median_profit_per_respondent'].values.tolist()\n",
    "# scores2 = df1['weighted_suppliers_median_complete_ratio'].values.tolist()\n",
    "\n",
    "# df1['final_score'] = list(map(weighted_harmonic_mean, scores1,scores2))\n",
    "\n",
    "# df1 = pd.pivot(df1, index='suppliers_info', columns='study_subject', values='final_score').fillna(0)\n",
    "\n",
    "# df1.reset_index().to_csv('adj_matrx_v2/03_adjacency_continent_lang_study_subject_weighted_suppliers_average_profit.csv', index=False)"
   ]
  },
  {
   "cell_type": "markdown",
   "metadata": {},
   "source": [
    "## Continent Level Lookup"
   ]
  },
  {
   "cell_type": "code",
   "execution_count": 10,
   "metadata": {},
   "outputs": [],
   "source": [
    "df3 = pd.read_csv('dataset/03_continent_weighted_suppliers_average_profit.csv')[['continents', 'median_profit_per_respondent', 'weighted_suppliers_median_complete_ratio', 'suppliers__ref']]\n",
    "df3['suppliers__ref'] = df3['suppliers__ref'].astype('str')\n",
    "df3['score'] = list(map(weighted_harmonic_mean, df3['median_profit_per_respondent'].values.tolist(), df3['weighted_suppliers_median_complete_ratio'].values.tolist()))\n",
    "df3 = df3.sort_values(by=['score'], ascending=False)\n",
    "\n",
    "continent_lookup = {}\n",
    "\n",
    "for i, j in df3.groupby(['continents']):\n",
    "    continent_lookup[i] = dict(j[['suppliers__ref', 'score']].values.tolist())\n",
    "\n",
    "\n",
    "obj = json.dumps(continent_lookup, indent=4)\n",
    "\n",
    "with open('Lookups/continent_level_ranking.json', 'w') as f:\n",
    "    f.write(obj)"
   ]
  },
  {
   "cell_type": "markdown",
   "metadata": {},
   "source": [
    "## Global Lookup"
   ]
  },
  {
   "cell_type": "code",
   "execution_count": 18,
   "metadata": {},
   "outputs": [],
   "source": [
    "df4 = pd.read_csv('dataset/04_Global_weighted_suppliers_average_profit.csv')[['median_profit_per_respondent', 'weighted_suppliers_median_complete_ratio', 'suppliers__ref']]\n",
    "\n",
    "df4['suppliers__ref'] = df4['suppliers__ref'].astype('str')\n",
    "df4['score'] = list(map(weighted_harmonic_mean, df4['median_profit_per_respondent'].values.tolist(), df4['weighted_suppliers_median_complete_ratio'].values.tolist()))\n",
    "df4 = df4.sort_values(by=['score'], ascending=[False])\n",
    "\n",
    "obj = json.dumps(dict(df4[['suppliers__ref', 'score']].values.tolist()), indent=4)\n",
    "\n",
    "with open('Lookups/global_level_ranking.json', 'w') as f:\n",
    "    f.write(obj)"
   ]
  },
  {
   "cell_type": "markdown",
   "metadata": {},
   "source": [
    "## Important_lookups"
   ]
  },
  {
   "cell_type": "code",
   "execution_count": 8,
   "metadata": {},
   "outputs": [],
   "source": [
    "# subjects_lookup = {'study' : df2['study'].str.strip().unique().tolist()}\n",
    "\n",
    "# json_obj = json.dumps(subjects_lookup, indent=4)\n",
    "# with open('utils_v2/continent_study_lookup.json', 'w') as f:\n",
    "#     f.write(json_obj)"
   ]
  },
  {
   "cell_type": "code",
   "execution_count": 9,
   "metadata": {},
   "outputs": [],
   "source": [
    "# supplier_lookup = {}\n",
    "\n",
    "# for con in df2[['continents', 'suppliers__ref']].drop_duplicates().continents.unique():\n",
    "#     supplier_lookup[con] = df2[df2.continents == con].suppliers_info.unique().tolist()\n",
    "\n",
    "# json_obj = json.dumps(supplier_lookup, indent=4)\n",
    "# json_obj\n",
    "\n",
    "# with open('utils_v2/continent_supplier_lookup.json', 'w') as f:\n",
    "#     f.write(json_obj)"
   ]
  },
  {
   "cell_type": "code",
   "execution_count": 27,
   "metadata": {},
   "outputs": [],
   "source": [
    "unique_suppliers_subjects_lookup = {'unique_suppliers' : df1.reset_index().suppliers_info.unique().tolist(), 'unique_subjects':list(df1.reset_index().columns[1:])}\n",
    "\n",
    "json_obj = json.dumps(unique_suppliers_subjects_lookup, indent=4)\n",
    "\n",
    "with open('utils_v2/continent_lang_study_sub_unique_suppliers_subjects_lookup.json', 'w') as f:\n",
    "    f.write(json_obj)"
   ]
  },
  {
   "cell_type": "code",
   "execution_count": 30,
   "metadata": {},
   "outputs": [],
   "source": [
    "unique_suppliers_subjects_lookup = {'unique_subjects' : df2.reset_index().suppliers_info.unique().tolist(), 'unique_suppliers':list(df2.columns[1:])}\n",
    "\n",
    "json_obj = json.dumps(unique_suppliers_subjects_lookup, indent=4)\n",
    "\n",
    "with open('utils_v2/continent_study_unique_suppliers_subjects_lookup.json', 'w') as f:\n",
    "    f.write(json_obj)"
   ]
  },
  {
   "cell_type": "markdown",
   "metadata": {},
   "source": [
    "## Extra Lookup to simplify the process"
   ]
  },
  {
   "cell_type": "code",
   "execution_count": 53,
   "metadata": {},
   "outputs": [],
   "source": [
    "df1 = pd.read_csv('dataset/01_continent_lang_study_subject_weighted_suppliers_average_profit.csv')\n",
    "df1['score'] = list(map(weighted_harmonic_mean, df1.median_profit_per_respondent.values.tolist(), df1.weighted_suppliers_median_complete_ratio.values.tolist()))\n",
    "df1['key'] = df1['continents']+\"@\"+df1['sample_pulls__language']+\"@\"+ df1['projects__study_types_ids']\n",
    "\n",
    "lookup = df1[['key', 'suppliers__ref', 'score']].sort_values(by = ['key', 'score'], ascending =[True, False])[['key', 'suppliers__ref']]\n",
    "lookup['suppliers__ref'] = lookup['suppliers__ref'].astype('str')\n",
    "lookup = lookup.drop_duplicates(subset=['key', 'suppliers__ref'])\n",
    "lookup = lookup.groupby(['key']).suppliers__ref.agg(\",\".join).reset_index(name='suppliers__ref')\n",
    "lookup['suppliers__ref'] = lookup.suppliers__ref.apply(lambda x: x.split(','))"
   ]
  },
  {
   "cell_type": "code",
   "execution_count": 57,
   "metadata": {},
   "outputs": [],
   "source": [
    "json_obj = json.dumps(dict(lookup.values.tolist()), indent=4)\n",
    "\n",
    "with open('utils_v2/layer1_suppliers_lookup.json', 'w') as f:\n",
    "    f.write(json_obj)"
   ]
  },
  {
   "cell_type": "code",
   "execution_count": 34,
   "metadata": {},
   "outputs": [
    {
     "data": {
      "text/html": [
       "<div>\n",
       "<style scoped>\n",
       "    .dataframe tbody tr th:only-of-type {\n",
       "        vertical-align: middle;\n",
       "    }\n",
       "\n",
       "    .dataframe tbody tr th {\n",
       "        vertical-align: top;\n",
       "    }\n",
       "\n",
       "    .dataframe thead th {\n",
       "        text-align: right;\n",
       "    }\n",
       "</style>\n",
       "<table border=\"1\" class=\"dataframe\">\n",
       "  <thead>\n",
       "    <tr style=\"text-align: right;\">\n",
       "      <th></th>\n",
       "      <th>key</th>\n",
       "      <th>suppliers__ref</th>\n",
       "      <th>score</th>\n",
       "    </tr>\n",
       "  </thead>\n",
       "  <tbody>\n",
       "    <tr>\n",
       "      <th>0</th>\n",
       "      <td>africa@b2b</td>\n",
       "      <td>271</td>\n",
       "      <td>1.071599</td>\n",
       "    </tr>\n",
       "    <tr>\n",
       "      <th>1</th>\n",
       "      <td>africa@consumer_study</td>\n",
       "      <td>271</td>\n",
       "      <td>0.623803</td>\n",
       "    </tr>\n",
       "    <tr>\n",
       "      <th>2</th>\n",
       "      <td>africa@consumer_study</td>\n",
       "      <td>574</td>\n",
       "      <td>0.513745</td>\n",
       "    </tr>\n",
       "    <tr>\n",
       "      <th>3</th>\n",
       "      <td>africa@consumer_study</td>\n",
       "      <td>601</td>\n",
       "      <td>0.437138</td>\n",
       "    </tr>\n",
       "    <tr>\n",
       "      <th>4</th>\n",
       "      <td>africa@consumer_study</td>\n",
       "      <td>537</td>\n",
       "      <td>0.346141</td>\n",
       "    </tr>\n",
       "    <tr>\n",
       "      <th>...</th>\n",
       "      <td>...</td>\n",
       "      <td>...</td>\n",
       "      <td>...</td>\n",
       "    </tr>\n",
       "    <tr>\n",
       "      <th>552</th>\n",
       "      <td>south-america@consumer_study</td>\n",
       "      <td>442</td>\n",
       "      <td>0.090000</td>\n",
       "    </tr>\n",
       "    <tr>\n",
       "      <th>553</th>\n",
       "      <td>south-america@consumer_study</td>\n",
       "      <td>549</td>\n",
       "      <td>0.000000</td>\n",
       "    </tr>\n",
       "    <tr>\n",
       "      <th>554</th>\n",
       "      <td>south-america@consumer_study</td>\n",
       "      <td>586</td>\n",
       "      <td>0.000000</td>\n",
       "    </tr>\n",
       "    <tr>\n",
       "      <th>555</th>\n",
       "      <td>south-america@consumer_study</td>\n",
       "      <td>301</td>\n",
       "      <td>0.000000</td>\n",
       "    </tr>\n",
       "    <tr>\n",
       "      <th>556</th>\n",
       "      <td>south-america@consumer_study</td>\n",
       "      <td>183</td>\n",
       "      <td>0.000000</td>\n",
       "    </tr>\n",
       "  </tbody>\n",
       "</table>\n",
       "<p>557 rows × 3 columns</p>\n",
       "</div>"
      ],
      "text/plain": [
       "                              key suppliers__ref     score\n",
       "0                      africa@b2b            271  1.071599\n",
       "1           africa@consumer_study            271  0.623803\n",
       "2           africa@consumer_study            574  0.513745\n",
       "3           africa@consumer_study            601  0.437138\n",
       "4           africa@consumer_study            537  0.346141\n",
       "..                            ...            ...       ...\n",
       "552  south-america@consumer_study            442  0.090000\n",
       "553  south-america@consumer_study            549  0.000000\n",
       "554  south-america@consumer_study            586  0.000000\n",
       "555  south-america@consumer_study            301  0.000000\n",
       "556  south-america@consumer_study            183  0.000000\n",
       "\n",
       "[557 rows x 3 columns]"
      ]
     },
     "execution_count": 34,
     "metadata": {},
     "output_type": "execute_result"
    }
   ],
   "source": [
    "df2 = pd.read_csv('dataset/02_continent_study_weighted_suppliers_average_profit.csv')\n",
    "df2['score'] = list(map(weighted_harmonic_mean, df2.median_profit_per_respondent.values.tolist(), df2.weighted_suppliers_median_complete_ratio.values.tolist()))\n",
    "df2['suppliers__ref'] = df2['suppliers__ref'] .astype('str')\n",
    "\n",
    "df2['key'] = df2['continents'] + \"@\" + df2['projects__study_types_ids']\n",
    "lookup = df2[['key', 'suppliers__ref', 'score']].sort_values(by=['key', 'score'], ascending=[True,False]).reset_index(drop=True)\n",
    "lookup"
   ]
  },
  {
   "cell_type": "code",
   "execution_count": 49,
   "metadata": {},
   "outputs": [],
   "source": [
    "layer2_lookup = {}\n",
    "\n",
    "for i, j in lookup.groupby(['key']):\n",
    "    layer2_lookup[i] = dict(j[['suppliers__ref', 'score']].values.tolist())\n",
    "\n",
    "\n",
    "json_obj = json.dumps(layer2_lookup, indent=4)\n",
    "with open('utils_v2/layer2_suppliers_lookup.json', 'w') as f:\n",
    "    f.write(json_obj)"
   ]
  },
  {
   "cell_type": "code",
   "execution_count": null,
   "metadata": {},
   "outputs": [],
   "source": []
  }
 ],
 "metadata": {
  "interpreter": {
   "hash": "d437c2bd0d26a9909614bcc5b04828d6277ae5f269770a7161a0a726ff076161"
  },
  "kernelspec": {
   "display_name": "Python 3.9.0 ('myenv')",
   "language": "python",
   "name": "python3"
  },
  "language_info": {
   "codemirror_mode": {
    "name": "ipython",
    "version": 3
   },
   "file_extension": ".py",
   "mimetype": "text/x-python",
   "name": "python",
   "nbconvert_exporter": "python",
   "pygments_lexer": "ipython3",
   "version": "3.9.0"
  },
  "orig_nbformat": 4
 },
 "nbformat": 4,
 "nbformat_minor": 2
}
