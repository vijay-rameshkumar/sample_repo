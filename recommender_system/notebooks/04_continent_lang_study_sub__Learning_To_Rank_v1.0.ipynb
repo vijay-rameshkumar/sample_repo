{
  "cells": [
    {
      "cell_type": "code",
      "execution_count": 1,
      "metadata": {
        "id": "LlSZmUpyfvRS"
      },
      "outputs": [],
      "source": [
        "# !pip install -q tensorflow-ranking"
      ]
    },
    {
      "cell_type": "code",
      "execution_count": 2,
      "metadata": {
        "id": "aA_MUZs_f9gz"
      },
      "outputs": [
        {
          "name": "stderr",
          "output_type": "stream",
          "text": [
            "c:\\Users\\vijay.rameshkumar\\Anaconda3\\envs\\myenv\\lib\\site-packages\\numpy\\_distributor_init.py:30: UserWarning: loaded more than 1 DLL from .libs:\n",
            "c:\\Users\\vijay.rameshkumar\\Anaconda3\\envs\\myenv\\lib\\site-packages\\numpy\\.libs\\libopenblas.EL2C6PLE4ZYW3ECEVIV3OXXGRN2NRFM2.gfortran-win_amd64.dll\n",
            "c:\\Users\\vijay.rameshkumar\\Anaconda3\\envs\\myenv\\lib\\site-packages\\numpy\\.libs\\libopenblas.XWYDX2IKJW2NMTWSFYNGFUWKQU3LYTCZ.gfortran-win_amd64.dll\n",
            "  warnings.warn(\"loaded more than 1 DLL from .libs:\"\n"
          ]
        }
      ],
      "source": [
        "import tensorflow_datasets as tfds\n",
        "import pandas as pd\n",
        "import tensorflow as tf\n",
        "from tensorflow.keras import layers \n",
        "from tensorflow.keras import Model\n",
        "import tensorflow_ranking as tfr\n",
        "from tensorflow.keras import optimizers\n",
        "import json\n",
        "\n",
        "import warnings\n",
        "warnings.filterwarnings(\"ignore\")"
      ]
    },
    {
      "cell_type": "code",
      "execution_count": 3,
      "metadata": {
        "id": "IBiDryhbgay3"
      },
      "outputs": [
        {
          "name": "stdout",
          "output_type": "stream",
          "text": [
            "0.0 13.359843\n"
          ]
        },
        {
          "data": {
            "text/plain": [
              "(525, 55)"
            ]
          },
          "execution_count": 3,
          "metadata": {},
          "output_type": "execute_result"
        }
      ],
      "source": [
        "positive_samples = pd.read_csv('adj_matrx_v2/01_adjacency_continent_lang_study_subject_weighted_suppliers_average_profit.csv')\n",
        "suppliers = positive_samples.suppliers_info.values.tolist()\n",
        "positive_samples = positive_samples.set_index('suppliers_info')\n",
        "positive_samples = positive_samples.sort_index()\n",
        "positive_samples = positive_samples.stack().reset_index()\n",
        "\n",
        "positive_samples.columns = ['suppliers__ref', 'projects__study_types_subject_ids', 'positive_score']\n",
        "\n",
        "positive_samples['suppliers__ref'] = positive_samples['suppliers__ref'].astype('str')\n",
        "positive_samples['positive_score'] = positive_samples['positive_score'].astype('float32')\n",
        "\n",
        "print(positive_samples['positive_score'].min(), positive_samples['positive_score'].max())\n",
        "\n",
        "positive_samples = positive_samples[positive_samples.positive_score  != 0.00]\n",
        "\n",
        "positive_samples.suppliers__ref.nunique(), positive_samples.projects__study_types_subject_ids.nunique()"
      ]
    },
    {
      "cell_type": "code",
      "execution_count": 4,
      "metadata": {},
      "outputs": [],
      "source": [
        "subjects_lookup = {'study_subject' : positive_samples['projects__study_types_subject_ids'].str.strip().unique().tolist()}\n",
        "suppliers_lookup = {'suppliers_lookup' : positive_samples['suppliers__ref'].str.strip().unique().tolist()}\n",
        "\n",
        "subjects_lookup.update(suppliers_lookup)\n",
        "\n",
        "json_obj = json.dumps(subjects_lookup, indent=4)\n",
        "with open('utils_v2/unique_suppliers_subjects_lookup.json', 'w') as f:\n",
        "    f.write(json_obj)"
      ]
    },
    {
      "cell_type": "code",
      "execution_count": 5,
      "metadata": {
        "id": "MD9XmghzgW-m"
      },
      "outputs": [],
      "source": [
        "target = []\n",
        "\n",
        "training_dataset = (\n",
        "    tf.data.Dataset.from_tensor_slices(\n",
        "        (\n",
        "            tf.cast(positive_samples['suppliers__ref'].values, tf.string),\n",
        "            tf.cast(positive_samples['projects__study_types_subject_ids'].values, tf.string),\n",
        "            tf.cast(positive_samples['positive_score'].values, tf.float32)\n",
        "        )\n",
        "    )\n",
        ")\n",
        "\n",
        "ratings = training_dataset.map(lambda x,y,z: {\n",
        "    \"subject_name\": y,\n",
        "    \"supplier_id\": x,\n",
        "    \"supplier_rating\": z,\n",
        "})\n",
        "\n",
        "movies = ratings.map(lambda x:x['subject_name'])\n",
        "\n",
        "unique_subjects = positive_samples['projects__study_types_subject_ids'].unique()\n",
        "unique_suppliers = positive_samples['suppliers__ref'].unique()"
      ]
    },
    {
      "cell_type": "code",
      "execution_count": 6,
      "metadata": {},
      "outputs": [
        {
          "name": "stdout",
          "output_type": "stream",
          "text": [
            "(55,) (525,)\n"
          ]
        }
      ],
      "source": [
        "print(unique_subjects.shape, unique_suppliers.shape)"
      ]
    },
    {
      "cell_type": "code",
      "execution_count": 7,
      "metadata": {
        "id": "CfVeVNsggCfD"
      },
      "outputs": [],
      "source": [
        "subjects = ratings.map(lambda x: x[\"subject_name\"])\n",
        "suppliers = ratings.map(lambda x: x[\"supplier_id\"])\n",
        "\n",
        "suppliers_vocabulary = layers.experimental.preprocessing.StringLookup(\n",
        "    mask_token=None)\n",
        "suppliers_vocabulary.adapt(suppliers.batch(10))\n",
        "\n",
        "subjects_vocabulary = layers.experimental.preprocessing.StringLookup(\n",
        "    mask_token=None)\n",
        "subjects_vocabulary.adapt(subjects.batch(10))"
      ]
    },
    {
      "cell_type": "code",
      "execution_count": 8,
      "metadata": {
        "id": "FCjuupOfhZgb"
      },
      "outputs": [],
      "source": [
        "key_func = lambda x: suppliers_vocabulary(x[\"supplier_id\"])\n",
        "reduce_func = lambda key, dataset: dataset.batch(10)\n",
        "train = ratings.group_by_window(\n",
        "    key_func=key_func, reduce_func=reduce_func, window_size=10)"
      ]
    },
    {
      "cell_type": "code",
      "execution_count": 9,
      "metadata": {
        "colab": {
          "base_uri": "https://localhost:8080/"
        },
        "id": "uE_BU0zhiEzJ",
        "outputId": "b7004dab-0d4c-4753-8ab0-f59dfaf356fc"
      },
      "outputs": [
        {
          "name": "stdout",
          "output_type": "stream",
          "text": [
            "<_GroupByWindowDataset element_spec={'subject_name': TensorSpec(shape=(None,), dtype=tf.string, name=None), 'supplier_id': TensorSpec(shape=(None,), dtype=tf.string, name=None), 'supplier_rating': TensorSpec(shape=(None,), dtype=tf.float32, name=None)}>\n",
            "Shape of subject_name: (10,)\n",
            "\n",
            "Example values of subject_name: [b'b2b@banking_financial' b'b2b@hr' b'b2b@it_decision_maker'\n",
            " b'b2b@marketing_advertising' b'b2b@operations']\n",
            "\n",
            "Shape of supplier_id: (10,)\n",
            "\n",
            "Example values of supplier_id: [b'asia@chi@271' b'asia@chi@271' b'asia@chi@271' b'asia@chi@271'\n",
            " b'asia@chi@271']\n",
            "\n",
            "Shape of supplier_rating: (10,)\n",
            "\n",
            "Example values of supplier_rating: [0.9575013  0.55927426 0.68369764 0.8126935  0.60299164]\n",
            "\n"
          ]
        }
      ],
      "source": [
        "print(train)\n",
        "for x in train.take(1):\n",
        "  for key, value in x.items():\n",
        "    print(f\"Shape of {key}: {value.shape}\\n\")\n",
        "    print(f\"Example values of {key}: {value[:5].numpy()}\")\n",
        "    print()"
      ]
    },
    {
      "cell_type": "code",
      "execution_count": 10,
      "metadata": {
        "id": "nWAeOs1yihe4"
      },
      "outputs": [],
      "source": [
        "from typing import Dict, Tuple\n",
        "\n",
        "def _features_and_labels(\n",
        "    x: Dict[str, tf.Tensor]) -> Tuple[Dict[str, tf.Tensor], tf.Tensor]:\n",
        "  labels = x.pop(\"supplier_rating\")\n",
        "  return x, labels\n",
        "\n",
        "train = train.map(_features_and_labels)\n",
        "\n",
        "train = train.apply(\n",
        "    tf.data.experimental.dense_to_ragged_batch(batch_size=16))"
      ]
    },
    {
      "cell_type": "code",
      "execution_count": 11,
      "metadata": {
        "id": "L15w9psPiSJD"
      },
      "outputs": [],
      "source": [
        "class RankingModel(Model):\n",
        "  def __init__(self, user_vocab, movie_vocab):\n",
        "    super().__init__()\n",
        "\n",
        "    # Set up user and movie vocabulary and embedding.\n",
        "    self.user_vocab = user_vocab\n",
        "    self.movie_vocab = movie_vocab\n",
        "    self.user_embed = layers.Embedding(user_vocab.vocabulary_size(),\n",
        "                                                64)\n",
        "    self.movie_embed = layers.Embedding(movie_vocab.vocabulary_size(),\n",
        "                                                 64)\n",
        "\n",
        "  def call(self, features: Dict[str, tf.Tensor]) -> tf.Tensor:\n",
        "    # Define how the ranking scores are computed: \n",
        "    # Take the dot-product of the user embeddings with the movie embeddings.\n",
        "\n",
        "    embeddings_user= self.user_embed(self.user_vocab(features[\"supplier_id\"]))\n",
        "    embeddings_movie = self.movie_embed(\n",
        "        self.movie_vocab(features[\"subject_name\"]))\n",
        "\n",
        "    return tf.reduce_sum(embeddings_user * embeddings_movie, axis=2)"
      ]
    },
    {
      "cell_type": "code",
      "execution_count": 12,
      "metadata": {
        "id": "O292auSAizey"
      },
      "outputs": [],
      "source": [
        "model = RankingModel(suppliers_vocabulary, subjects_vocabulary)\n",
        "\n",
        "# optimizer = optimizers.Adagrad(learning_rate=0.01,\n",
        "#      initial_accumulator_value=0.1,\n",
        "#      epsilon=1e-07,)\n",
        "\n",
        "optimizer=tf.keras.optimizers.Adam(learning_rate=0.001)\n",
        "\n",
        "loss = [tfr.keras.losses.get(loss=tfr.keras.losses.RankingLossKey.SOFTMAX_LOSS, ragged=True)]\n",
        "\n",
        "eval_metrics = [\n",
        "    tfr.keras.metrics.get(key=\"ndcg\", name=\"metric/ndcg\", ragged=True),\n",
        "    tfr.keras.metrics.get(key=\"mrr\", name=\"metric/mrr\", ragged=True),\n",
        "    tfr.keras.metrics.get(key=\"map\", name=\"metric/map\", ragged=True)\n",
        "]\n",
        "\n",
        "callback = tf.keras.callbacks.EarlyStopping(monitor='loss', patience=50, )\n",
        "checkpoint = tf.keras.callbacks.ModelCheckpoint('LTR_Continent_lang_study_subject_final_model_weights/', \\\n",
        "    save_best_only=True, monitor='metric/ndcg', mode='max')\n",
        "\n",
        "model.compile(optimizer=optimizer, loss=loss, metrics=eval_metrics)"
      ]
    },
    {
      "cell_type": "code",
      "execution_count": 13,
      "metadata": {
        "colab": {
          "base_uri": "https://localhost:8080/"
        },
        "id": "IjX-NSBqjAU6",
        "outputId": "fff8a25c-17b1-46ec-e66b-6cf2d9f7fb15"
      },
      "outputs": [
        {
          "name": "stdout",
          "output_type": "stream",
          "text": [
            "Epoch 1/1000\n",
            "     33/Unknown - 4s 4ms/step - loss: 4.6118 - metric/ndcg: 0.8941 - metric/mrr: 0.2486 - metric/map: 0.2441  "
          ]
        },
        {
          "name": "stderr",
          "output_type": "stream",
          "text": [
            "WARNING:absl:Function `_wrapped_model` contains input name(s) args_0 with unsupported characters which will be renamed to args_0_3 in the SavedModel.\n"
          ]
        },
        {
          "name": "stdout",
          "output_type": "stream",
          "text": [
            "INFO:tensorflow:Assets written to: LTR_Continent_lang_study_subject_final_model_weights\\assets\n"
          ]
        },
        {
          "name": "stderr",
          "output_type": "stream",
          "text": [
            "INFO:tensorflow:Assets written to: LTR_Continent_lang_study_subject_final_model_weights\\assets\n"
          ]
        },
        {
          "name": "stdout",
          "output_type": "stream",
          "text": [
            "39/39 [==============================] - 8s 118ms/step - loss: 3.9594 - metric/ndcg: 0.9091 - metric/mrr: 0.2427 - metric/map: 0.2389\n",
            "Epoch 2/1000\n",
            "37/39 [===========================>..] - ETA: 0s - loss: 4.1082 - metric/ndcg: 0.9612 - metric/mrr: 0.3078 - metric/map: 0.2985"
          ]
        },
        {
          "name": "stderr",
          "output_type": "stream",
          "text": [
            "WARNING:absl:Function `_wrapped_model` contains input name(s) args_0 with unsupported characters which will be renamed to args_0_3 in the SavedModel.\n"
          ]
        },
        {
          "name": "stdout",
          "output_type": "stream",
          "text": [
            "INFO:tensorflow:Assets written to: LTR_Continent_lang_study_subject_final_model_weights\\assets\n"
          ]
        },
        {
          "name": "stderr",
          "output_type": "stream",
          "text": [
            "INFO:tensorflow:Assets written to: LTR_Continent_lang_study_subject_final_model_weights\\assets\n"
          ]
        },
        {
          "name": "stdout",
          "output_type": "stream",
          "text": [
            "39/39 [==============================] - 3s 71ms/step - loss: 3.9545 - metric/ndcg: 0.9626 - metric/mrr: 0.3060 - metric/map: 0.2971\n",
            "Epoch 3/1000\n",
            "25/39 [==================>...........] - ETA: 0s - loss: 6.0713 - metric/ndcg: 0.9721 - metric/mrr: 0.3711 - metric/map: 0.3620 "
          ]
        },
        {
          "name": "stderr",
          "output_type": "stream",
          "text": [
            "WARNING:absl:Function `_wrapped_model` contains input name(s) args_0 with unsupported characters which will be renamed to args_0_3 in the SavedModel.\n"
          ]
        },
        {
          "name": "stdout",
          "output_type": "stream",
          "text": [
            "INFO:tensorflow:Assets written to: LTR_Continent_lang_study_subject_final_model_weights\\assets\n"
          ]
        },
        {
          "name": "stderr",
          "output_type": "stream",
          "text": [
            "INFO:tensorflow:Assets written to: LTR_Continent_lang_study_subject_final_model_weights\\assets\n"
          ]
        },
        {
          "name": "stdout",
          "output_type": "stream",
          "text": [
            "39/39 [==============================] - 2s 63ms/step - loss: 3.9488 - metric/ndcg: 0.9819 - metric/mrr: 0.3243 - metric/map: 0.3184\n",
            "Epoch 4/1000\n",
            "18/39 [============>.................] - ETA: 0s - loss: 7.9816 - metric/ndcg: 0.9761 - metric/mrr: 0.4129 - metric/map: 0.3999 "
          ]
        },
        {
          "name": "stderr",
          "output_type": "stream",
          "text": [
            "WARNING:absl:Function `_wrapped_model` contains input name(s) args_0 with unsupported characters which will be renamed to args_0_3 in the SavedModel.\n"
          ]
        },
        {
          "name": "stdout",
          "output_type": "stream",
          "text": [
            "INFO:tensorflow:Assets written to: LTR_Continent_lang_study_subject_final_model_weights\\assets\n"
          ]
        },
        {
          "name": "stderr",
          "output_type": "stream",
          "text": [
            "INFO:tensorflow:Assets written to: LTR_Continent_lang_study_subject_final_model_weights\\assets\n"
          ]
        },
        {
          "name": "stdout",
          "output_type": "stream",
          "text": [
            "39/39 [==============================] - 2s 43ms/step - loss: 3.9404 - metric/ndcg: 0.9886 - metric/mrr: 0.3332 - metric/map: 0.3271\n",
            "Epoch 5/1000\n",
            "19/39 [=============>................] - ETA: 0s - loss: 7.6594 - metric/ndcg: 0.9824 - metric/mrr: 0.4232 - metric/map: 0.4140 "
          ]
        },
        {
          "name": "stderr",
          "output_type": "stream",
          "text": [
            "WARNING:absl:Function `_wrapped_model` contains input name(s) args_0 with unsupported characters which will be renamed to args_0_3 in the SavedModel.\n"
          ]
        },
        {
          "name": "stdout",
          "output_type": "stream",
          "text": [
            "INFO:tensorflow:Assets written to: LTR_Continent_lang_study_subject_final_model_weights\\assets\n"
          ]
        },
        {
          "name": "stderr",
          "output_type": "stream",
          "text": [
            "INFO:tensorflow:Assets written to: LTR_Continent_lang_study_subject_final_model_weights\\assets\n"
          ]
        },
        {
          "name": "stdout",
          "output_type": "stream",
          "text": [
            "39/39 [==============================] - 2s 52ms/step - loss: 3.9281 - metric/ndcg: 0.9913 - metric/mrr: 0.3360 - metric/map: 0.3315\n",
            "Epoch 6/1000\n",
            "24/39 [=================>............] - ETA: 0s - loss: 6.2345 - metric/ndcg: 0.9887 - metric/mrr: 0.3915 - metric/map: 0.3848 "
          ]
        },
        {
          "name": "stderr",
          "output_type": "stream",
          "text": [
            "WARNING:absl:Function `_wrapped_model` contains input name(s) args_0 with unsupported characters which will be renamed to args_0_3 in the SavedModel.\n"
          ]
        },
        {
          "name": "stdout",
          "output_type": "stream",
          "text": [
            "INFO:tensorflow:Assets written to: LTR_Continent_lang_study_subject_final_model_weights\\assets\n"
          ]
        },
        {
          "name": "stderr",
          "output_type": "stream",
          "text": [
            "INFO:tensorflow:Assets written to: LTR_Continent_lang_study_subject_final_model_weights\\assets\n"
          ]
        },
        {
          "name": "stdout",
          "output_type": "stream",
          "text": [
            "39/39 [==============================] - 2s 45ms/step - loss: 3.9110 - metric/ndcg: 0.9929 - metric/mrr: 0.3371 - metric/map: 0.3330\n",
            "Epoch 7/1000\n",
            "31/39 [======================>.......] - ETA: 0s - loss: 4.8226 - metric/ndcg: 0.9918 - metric/mrr: 0.3595 - metric/map: 0.3546 "
          ]
        },
        {
          "name": "stderr",
          "output_type": "stream",
          "text": [
            "WARNING:absl:Function `_wrapped_model` contains input name(s) args_0 with unsupported characters which will be renamed to args_0_3 in the SavedModel.\n"
          ]
        },
        {
          "name": "stdout",
          "output_type": "stream",
          "text": [
            "INFO:tensorflow:Assets written to: LTR_Continent_lang_study_subject_final_model_weights\\assets\n"
          ]
        },
        {
          "name": "stderr",
          "output_type": "stream",
          "text": [
            "INFO:tensorflow:Assets written to: LTR_Continent_lang_study_subject_final_model_weights\\assets\n"
          ]
        },
        {
          "name": "stdout",
          "output_type": "stream",
          "text": [
            "39/39 [==============================] - 1s 39ms/step - loss: 3.8894 - metric/ndcg: 0.9934 - metric/mrr: 0.3371 - metric/map: 0.3332\n",
            "Epoch 8/1000\n",
            "39/39 [==============================] - 0s 3ms/step - loss: 3.8642 - metric/ndcg: 0.9933 - metric/mrr: 0.3379 - metric/map: 0.3340\n",
            "Epoch 9/1000\n",
            "31/39 [======================>.......] - ETA: 0s - loss: 4.7571 - metric/ndcg: 0.9920 - metric/mrr: 0.3616 - metric/map: 0.3563 "
          ]
        },
        {
          "name": "stderr",
          "output_type": "stream",
          "text": [
            "WARNING:absl:Function `_wrapped_model` contains input name(s) args_0 with unsupported characters which will be renamed to args_0_3 in the SavedModel.\n"
          ]
        },
        {
          "name": "stdout",
          "output_type": "stream",
          "text": [
            "INFO:tensorflow:Assets written to: LTR_Continent_lang_study_subject_final_model_weights\\assets\n"
          ]
        },
        {
          "name": "stderr",
          "output_type": "stream",
          "text": [
            "INFO:tensorflow:Assets written to: LTR_Continent_lang_study_subject_final_model_weights\\assets\n"
          ]
        },
        {
          "name": "stdout",
          "output_type": "stream",
          "text": [
            "39/39 [==============================] - 2s 42ms/step - loss: 3.8366 - metric/ndcg: 0.9936 - metric/mrr: 0.3388 - metric/map: 0.3346\n",
            "Epoch 10/1000\n",
            "11/39 [=======>......................] - ETA: 0s - loss: 9.5558 - metric/ndcg: 0.9821 - metric/mrr: 0.4422 - metric/map: 0.4299 "
          ]
        },
        {
          "name": "stderr",
          "output_type": "stream",
          "text": [
            "WARNING:absl:Function `_wrapped_model` contains input name(s) args_0 with unsupported characters which will be renamed to args_0_3 in the SavedModel.\n"
          ]
        },
        {
          "name": "stdout",
          "output_type": "stream",
          "text": [
            "INFO:tensorflow:Assets written to: LTR_Continent_lang_study_subject_final_model_weights\\assets\n"
          ]
        },
        {
          "name": "stderr",
          "output_type": "stream",
          "text": [
            "INFO:tensorflow:Assets written to: LTR_Continent_lang_study_subject_final_model_weights\\assets\n"
          ]
        },
        {
          "name": "stdout",
          "output_type": "stream",
          "text": [
            "39/39 [==============================] - 2s 39ms/step - loss: 3.8083 - metric/ndcg: 0.9938 - metric/mrr: 0.3388 - metric/map: 0.3348\n",
            "Epoch 11/1000\n",
            "34/39 [=========================>....] - ETA: 0s - loss: 4.2740 - metric/ndcg: 0.9935 - metric/mrr: 0.3591 - metric/map: 0.3547 "
          ]
        },
        {
          "name": "stderr",
          "output_type": "stream",
          "text": [
            "WARNING:absl:Function `_wrapped_model` contains input name(s) args_0 with unsupported characters which will be renamed to args_0_3 in the SavedModel.\n"
          ]
        },
        {
          "name": "stdout",
          "output_type": "stream",
          "text": [
            "INFO:tensorflow:Assets written to: LTR_Continent_lang_study_subject_final_model_weights\\assets\n"
          ]
        },
        {
          "name": "stderr",
          "output_type": "stream",
          "text": [
            "INFO:tensorflow:Assets written to: LTR_Continent_lang_study_subject_final_model_weights\\assets\n"
          ]
        },
        {
          "name": "stdout",
          "output_type": "stream",
          "text": [
            "39/39 [==============================] - 1s 37ms/step - loss: 3.7806 - metric/ndcg: 0.9943 - metric/mrr: 0.3388 - metric/map: 0.3349\n",
            "Epoch 12/1000\n",
            "33/39 [========================>.....] - ETA: 0s - loss: 4.3729 - metric/ndcg: 0.9939 - metric/mrr: 0.3605 - metric/map: 0.3562 "
          ]
        },
        {
          "name": "stderr",
          "output_type": "stream",
          "text": [
            "WARNING:absl:Function `_wrapped_model` contains input name(s) args_0 with unsupported characters which will be renamed to args_0_3 in the SavedModel.\n"
          ]
        },
        {
          "name": "stdout",
          "output_type": "stream",
          "text": [
            "INFO:tensorflow:Assets written to: LTR_Continent_lang_study_subject_final_model_weights\\assets\n"
          ]
        },
        {
          "name": "stderr",
          "output_type": "stream",
          "text": [
            "INFO:tensorflow:Assets written to: LTR_Continent_lang_study_subject_final_model_weights\\assets\n"
          ]
        },
        {
          "name": "stdout",
          "output_type": "stream",
          "text": [
            "39/39 [==============================] - 1s 37ms/step - loss: 3.7543 - metric/ndcg: 0.9948 - metric/mrr: 0.3388 - metric/map: 0.3351\n",
            "Epoch 13/1000\n",
            "24/39 [=================>............] - ETA: 0s - loss: 5.9468 - metric/ndcg: 0.9931 - metric/mrr: 0.3958 - metric/map: 0.3909 "
          ]
        },
        {
          "name": "stderr",
          "output_type": "stream",
          "text": [
            "WARNING:absl:Function `_wrapped_model` contains input name(s) args_0 with unsupported characters which will be renamed to args_0_3 in the SavedModel.\n"
          ]
        },
        {
          "name": "stdout",
          "output_type": "stream",
          "text": [
            "INFO:tensorflow:Assets written to: LTR_Continent_lang_study_subject_final_model_weights\\assets\n"
          ]
        },
        {
          "name": "stderr",
          "output_type": "stream",
          "text": [
            "INFO:tensorflow:Assets written to: LTR_Continent_lang_study_subject_final_model_weights\\assets\n"
          ]
        },
        {
          "name": "stdout",
          "output_type": "stream",
          "text": [
            "39/39 [==============================] - 2s 42ms/step - loss: 3.7301 - metric/ndcg: 0.9957 - metric/mrr: 0.3398 - metric/map: 0.3368\n",
            "Epoch 14/1000\n",
            "32/39 [=======================>......] - ETA: 0s - loss: 4.4544 - metric/ndcg: 0.9952 - metric/mrr: 0.3594 - metric/map: 0.3560 "
          ]
        },
        {
          "name": "stderr",
          "output_type": "stream",
          "text": [
            "WARNING:absl:Function `_wrapped_model` contains input name(s) args_0 with unsupported characters which will be renamed to args_0_3 in the SavedModel.\n"
          ]
        },
        {
          "name": "stdout",
          "output_type": "stream",
          "text": [
            "INFO:tensorflow:Assets written to: LTR_Continent_lang_study_subject_final_model_weights\\assets\n"
          ]
        },
        {
          "name": "stderr",
          "output_type": "stream",
          "text": [
            "INFO:tensorflow:Assets written to: LTR_Continent_lang_study_subject_final_model_weights\\assets\n"
          ]
        },
        {
          "name": "stdout",
          "output_type": "stream",
          "text": [
            "39/39 [==============================] - 1s 38ms/step - loss: 3.7084 - metric/ndcg: 0.9960 - metric/mrr: 0.3398 - metric/map: 0.3370\n",
            "Epoch 15/1000\n",
            "33/39 [========================>.....] - ETA: 0s - loss: 4.2972 - metric/ndcg: 0.9956 - metric/mrr: 0.3627 - metric/map: 0.3591 "
          ]
        },
        {
          "name": "stderr",
          "output_type": "stream",
          "text": [
            "WARNING:absl:Function `_wrapped_model` contains input name(s) args_0 with unsupported characters which will be renamed to args_0_3 in the SavedModel.\n"
          ]
        },
        {
          "name": "stdout",
          "output_type": "stream",
          "text": [
            "INFO:tensorflow:Assets written to: LTR_Continent_lang_study_subject_final_model_weights\\assets\n"
          ]
        },
        {
          "name": "stderr",
          "output_type": "stream",
          "text": [
            "INFO:tensorflow:Assets written to: LTR_Continent_lang_study_subject_final_model_weights\\assets\n"
          ]
        },
        {
          "name": "stdout",
          "output_type": "stream",
          "text": [
            "39/39 [==============================] - 1s 37ms/step - loss: 3.6893 - metric/ndcg: 0.9962 - metric/mrr: 0.3407 - metric/map: 0.3376\n",
            "Epoch 16/1000\n",
            "32/39 [=======================>......] - ETA: 0s - loss: 4.4119 - metric/ndcg: 0.9962 - metric/mrr: 0.3604 - metric/map: 0.3579 "
          ]
        },
        {
          "name": "stderr",
          "output_type": "stream",
          "text": [
            "WARNING:absl:Function `_wrapped_model` contains input name(s) args_0 with unsupported characters which will be renamed to args_0_3 in the SavedModel.\n"
          ]
        },
        {
          "name": "stdout",
          "output_type": "stream",
          "text": [
            "INFO:tensorflow:Assets written to: LTR_Continent_lang_study_subject_final_model_weights\\assets\n"
          ]
        },
        {
          "name": "stderr",
          "output_type": "stream",
          "text": [
            "INFO:tensorflow:Assets written to: LTR_Continent_lang_study_subject_final_model_weights\\assets\n"
          ]
        },
        {
          "name": "stdout",
          "output_type": "stream",
          "text": [
            "39/39 [==============================] - 2s 47ms/step - loss: 3.6730 - metric/ndcg: 0.9968 - metric/mrr: 0.3407 - metric/map: 0.3386\n",
            "Epoch 17/1000\n",
            "29/39 [=====================>........] - ETA: 0s - loss: 4.8501 - metric/ndcg: 0.9962 - metric/mrr: 0.3718 - metric/map: 0.3695 "
          ]
        },
        {
          "name": "stderr",
          "output_type": "stream",
          "text": [
            "WARNING:absl:Function `_wrapped_model` contains input name(s) args_0 with unsupported characters which will be renamed to args_0_3 in the SavedModel.\n"
          ]
        },
        {
          "name": "stdout",
          "output_type": "stream",
          "text": [
            "INFO:tensorflow:Assets written to: LTR_Continent_lang_study_subject_final_model_weights\\assets\n"
          ]
        },
        {
          "name": "stderr",
          "output_type": "stream",
          "text": [
            "INFO:tensorflow:Assets written to: LTR_Continent_lang_study_subject_final_model_weights\\assets\n"
          ]
        },
        {
          "name": "stdout",
          "output_type": "stream",
          "text": [
            "39/39 [==============================] - 1s 38ms/step - loss: 3.6592 - metric/ndcg: 0.9972 - metric/mrr: 0.3407 - metric/map: 0.3389\n",
            "Epoch 18/1000\n",
            "24/39 [=================>............] - ETA: 0s - loss: 5.8155 - metric/ndcg: 0.9959 - metric/mrr: 0.3971 - metric/map: 0.3944 "
          ]
        },
        {
          "name": "stderr",
          "output_type": "stream",
          "text": [
            "WARNING:absl:Function `_wrapped_model` contains input name(s) args_0 with unsupported characters which will be renamed to args_0_3 in the SavedModel.\n"
          ]
        },
        {
          "name": "stdout",
          "output_type": "stream",
          "text": [
            "INFO:tensorflow:Assets written to: LTR_Continent_lang_study_subject_final_model_weights\\assets\n"
          ]
        },
        {
          "name": "stderr",
          "output_type": "stream",
          "text": [
            "INFO:tensorflow:Assets written to: LTR_Continent_lang_study_subject_final_model_weights\\assets\n"
          ]
        },
        {
          "name": "stdout",
          "output_type": "stream",
          "text": [
            "39/39 [==============================] - 1s 37ms/step - loss: 3.6479 - metric/ndcg: 0.9975 - metric/mrr: 0.3407 - metric/map: 0.3389\n",
            "Epoch 19/1000\n",
            "35/39 [=========================>....] - ETA: 0s - loss: 3.9961 - metric/ndcg: 0.9977 - metric/mrr: 0.3527 - metric/map: 0.3506 "
          ]
        },
        {
          "name": "stderr",
          "output_type": "stream",
          "text": [
            "WARNING:absl:Function `_wrapped_model` contains input name(s) args_0 with unsupported characters which will be renamed to args_0_3 in the SavedModel.\n"
          ]
        },
        {
          "name": "stdout",
          "output_type": "stream",
          "text": [
            "INFO:tensorflow:Assets written to: LTR_Continent_lang_study_subject_final_model_weights\\assets\n"
          ]
        },
        {
          "name": "stderr",
          "output_type": "stream",
          "text": [
            "INFO:tensorflow:Assets written to: LTR_Continent_lang_study_subject_final_model_weights\\assets\n"
          ]
        },
        {
          "name": "stdout",
          "output_type": "stream",
          "text": [
            "39/39 [==============================] - 1s 36ms/step - loss: 3.6387 - metric/ndcg: 0.9979 - metric/mrr: 0.3407 - metric/map: 0.3388\n",
            "Epoch 20/1000\n",
            "21/39 [===============>..............] - ETA: 0s - loss: 6.5040 - metric/ndcg: 0.9966 - metric/mrr: 0.4122 - metric/map: 0.4098 "
          ]
        },
        {
          "name": "stderr",
          "output_type": "stream",
          "text": [
            "WARNING:absl:Function `_wrapped_model` contains input name(s) args_0 with unsupported characters which will be renamed to args_0_3 in the SavedModel.\n"
          ]
        },
        {
          "name": "stdout",
          "output_type": "stream",
          "text": [
            "INFO:tensorflow:Assets written to: LTR_Continent_lang_study_subject_final_model_weights\\assets\n"
          ]
        },
        {
          "name": "stderr",
          "output_type": "stream",
          "text": [
            "INFO:tensorflow:Assets written to: LTR_Continent_lang_study_subject_final_model_weights\\assets\n"
          ]
        },
        {
          "name": "stdout",
          "output_type": "stream",
          "text": [
            "39/39 [==============================] - 2s 43ms/step - loss: 3.6313 - metric/ndcg: 0.9981 - metric/mrr: 0.3407 - metric/map: 0.3393\n",
            "Epoch 21/1000\n",
            "32/39 [=======================>......] - ETA: 0s - loss: 4.3545 - metric/ndcg: 0.9979 - metric/mrr: 0.3604 - metric/map: 0.3589 "
          ]
        },
        {
          "name": "stderr",
          "output_type": "stream",
          "text": [
            "WARNING:absl:Function `_wrapped_model` contains input name(s) args_0 with unsupported characters which will be renamed to args_0_3 in the SavedModel.\n"
          ]
        },
        {
          "name": "stdout",
          "output_type": "stream",
          "text": [
            "INFO:tensorflow:Assets written to: LTR_Continent_lang_study_subject_final_model_weights\\assets\n"
          ]
        },
        {
          "name": "stderr",
          "output_type": "stream",
          "text": [
            "INFO:tensorflow:Assets written to: LTR_Continent_lang_study_subject_final_model_weights\\assets\n"
          ]
        },
        {
          "name": "stdout",
          "output_type": "stream",
          "text": [
            "39/39 [==============================] - 1s 39ms/step - loss: 3.6252 - metric/ndcg: 0.9983 - metric/mrr: 0.3407 - metric/map: 0.3394\n",
            "Epoch 22/1000\n",
            "27/39 [===================>..........] - ETA: 0s - loss: 5.1540 - metric/ndcg: 0.9979 - metric/mrr: 0.3785 - metric/map: 0.3771 "
          ]
        },
        {
          "name": "stderr",
          "output_type": "stream",
          "text": [
            "WARNING:absl:Function `_wrapped_model` contains input name(s) args_0 with unsupported characters which will be renamed to args_0_3 in the SavedModel.\n"
          ]
        },
        {
          "name": "stdout",
          "output_type": "stream",
          "text": [
            "INFO:tensorflow:Assets written to: LTR_Continent_lang_study_subject_final_model_weights\\assets\n"
          ]
        },
        {
          "name": "stderr",
          "output_type": "stream",
          "text": [
            "INFO:tensorflow:Assets written to: LTR_Continent_lang_study_subject_final_model_weights\\assets\n"
          ]
        },
        {
          "name": "stdout",
          "output_type": "stream",
          "text": [
            "39/39 [==============================] - 1s 36ms/step - loss: 3.6204 - metric/ndcg: 0.9985 - metric/mrr: 0.3407 - metric/map: 0.3397\n",
            "Epoch 23/1000\n",
            "32/39 [=======================>......] - ETA: 0s - loss: 4.3439 - metric/ndcg: 0.9985 - metric/mrr: 0.3604 - metric/map: 0.3589 "
          ]
        },
        {
          "name": "stderr",
          "output_type": "stream",
          "text": [
            "WARNING:absl:Function `_wrapped_model` contains input name(s) args_0 with unsupported characters which will be renamed to args_0_3 in the SavedModel.\n"
          ]
        },
        {
          "name": "stdout",
          "output_type": "stream",
          "text": [
            "INFO:tensorflow:Assets written to: LTR_Continent_lang_study_subject_final_model_weights\\assets\n"
          ]
        },
        {
          "name": "stderr",
          "output_type": "stream",
          "text": [
            "INFO:tensorflow:Assets written to: LTR_Continent_lang_study_subject_final_model_weights\\assets\n"
          ]
        },
        {
          "name": "stdout",
          "output_type": "stream",
          "text": [
            "39/39 [==============================] - 2s 42ms/step - loss: 3.6164 - metric/ndcg: 0.9988 - metric/mrr: 0.3407 - metric/map: 0.3394\n",
            "Epoch 24/1000\n",
            "22/39 [===============>..............] - ETA: 0s - loss: 6.2105 - metric/ndcg: 0.9981 - metric/mrr: 0.4091 - metric/map: 0.4077 "
          ]
        },
        {
          "name": "stderr",
          "output_type": "stream",
          "text": [
            "WARNING:absl:Function `_wrapped_model` contains input name(s) args_0 with unsupported characters which will be renamed to args_0_3 in the SavedModel.\n"
          ]
        },
        {
          "name": "stdout",
          "output_type": "stream",
          "text": [
            "INFO:tensorflow:Assets written to: LTR_Continent_lang_study_subject_final_model_weights\\assets\n"
          ]
        },
        {
          "name": "stderr",
          "output_type": "stream",
          "text": [
            "INFO:tensorflow:Assets written to: LTR_Continent_lang_study_subject_final_model_weights\\assets\n"
          ]
        },
        {
          "name": "stdout",
          "output_type": "stream",
          "text": [
            "39/39 [==============================] - 1s 38ms/step - loss: 3.6131 - metric/ndcg: 0.9989 - metric/mrr: 0.3415 - metric/map: 0.3407\n",
            "Epoch 25/1000\n",
            "34/39 [=========================>....] - ETA: 0s - loss: 4.0816 - metric/ndcg: 0.9988 - metric/mrr: 0.3621 - metric/map: 0.3611 "
          ]
        },
        {
          "name": "stderr",
          "output_type": "stream",
          "text": [
            "WARNING:absl:Function `_wrapped_model` contains input name(s) args_0 with unsupported characters which will be renamed to args_0_3 in the SavedModel.\n"
          ]
        },
        {
          "name": "stdout",
          "output_type": "stream",
          "text": [
            "INFO:tensorflow:Assets written to: LTR_Continent_lang_study_subject_final_model_weights\\assets\n"
          ]
        },
        {
          "name": "stderr",
          "output_type": "stream",
          "text": [
            "INFO:tensorflow:Assets written to: LTR_Continent_lang_study_subject_final_model_weights\\assets\n"
          ]
        },
        {
          "name": "stdout",
          "output_type": "stream",
          "text": [
            "39/39 [==============================] - 1s 37ms/step - loss: 3.6104 - metric/ndcg: 0.9990 - metric/mrr: 0.3415 - metric/map: 0.3405\n",
            "Epoch 26/1000\n",
            "32/39 [=======================>......] - ETA: 0s - loss: 4.3338 - metric/ndcg: 0.9988 - metric/mrr: 0.3613 - metric/map: 0.3602 "
          ]
        },
        {
          "name": "stderr",
          "output_type": "stream",
          "text": [
            "WARNING:absl:Function `_wrapped_model` contains input name(s) args_0 with unsupported characters which will be renamed to args_0_3 in the SavedModel.\n"
          ]
        },
        {
          "name": "stdout",
          "output_type": "stream",
          "text": [
            "INFO:tensorflow:Assets written to: LTR_Continent_lang_study_subject_final_model_weights\\assets\n"
          ]
        },
        {
          "name": "stderr",
          "output_type": "stream",
          "text": [
            "INFO:tensorflow:Assets written to: LTR_Continent_lang_study_subject_final_model_weights\\assets\n"
          ]
        },
        {
          "name": "stdout",
          "output_type": "stream",
          "text": [
            "39/39 [==============================] - 1s 37ms/step - loss: 3.6080 - metric/ndcg: 0.9990 - metric/mrr: 0.3415 - metric/map: 0.3405\n",
            "Epoch 27/1000\n",
            "24/39 [=================>............] - ETA: 0s - loss: 5.7485 - metric/ndcg: 0.9987 - metric/mrr: 0.3984 - metric/map: 0.3974 "
          ]
        },
        {
          "name": "stderr",
          "output_type": "stream",
          "text": [
            "WARNING:absl:Function `_wrapped_model` contains input name(s) args_0 with unsupported characters which will be renamed to args_0_3 in the SavedModel.\n"
          ]
        },
        {
          "name": "stdout",
          "output_type": "stream",
          "text": [
            "INFO:tensorflow:Assets written to: LTR_Continent_lang_study_subject_final_model_weights\\assets\n"
          ]
        },
        {
          "name": "stderr",
          "output_type": "stream",
          "text": [
            "INFO:tensorflow:Assets written to: LTR_Continent_lang_study_subject_final_model_weights\\assets\n"
          ]
        },
        {
          "name": "stdout",
          "output_type": "stream",
          "text": [
            "39/39 [==============================] - 2s 43ms/step - loss: 3.6060 - metric/ndcg: 0.9992 - metric/mrr: 0.3415 - metric/map: 0.3408\n",
            "Epoch 28/1000\n",
            "24/39 [=================>............] - ETA: 0s - loss: 5.7457 - metric/ndcg: 0.9989 - metric/mrr: 0.3984 - metric/map: 0.3971 "
          ]
        },
        {
          "name": "stderr",
          "output_type": "stream",
          "text": [
            "WARNING:absl:Function `_wrapped_model` contains input name(s) args_0 with unsupported characters which will be renamed to args_0_3 in the SavedModel.\n"
          ]
        },
        {
          "name": "stdout",
          "output_type": "stream",
          "text": [
            "INFO:tensorflow:Assets written to: LTR_Continent_lang_study_subject_final_model_weights\\assets\n"
          ]
        },
        {
          "name": "stderr",
          "output_type": "stream",
          "text": [
            "INFO:tensorflow:Assets written to: LTR_Continent_lang_study_subject_final_model_weights\\assets\n"
          ]
        },
        {
          "name": "stdout",
          "output_type": "stream",
          "text": [
            "39/39 [==============================] - 1s 38ms/step - loss: 3.6043 - metric/ndcg: 0.9993 - metric/mrr: 0.3415 - metric/map: 0.3407\n",
            "Epoch 29/1000\n",
            "35/39 [=========================>....] - ETA: 0s - loss: 3.9567 - metric/ndcg: 0.9993 - metric/mrr: 0.3536 - metric/map: 0.3530 "
          ]
        },
        {
          "name": "stderr",
          "output_type": "stream",
          "text": [
            "WARNING:absl:Function `_wrapped_model` contains input name(s) args_0 with unsupported characters which will be renamed to args_0_3 in the SavedModel.\n"
          ]
        },
        {
          "name": "stdout",
          "output_type": "stream",
          "text": [
            "INFO:tensorflow:Assets written to: LTR_Continent_lang_study_subject_final_model_weights\\assets\n"
          ]
        },
        {
          "name": "stderr",
          "output_type": "stream",
          "text": [
            "INFO:tensorflow:Assets written to: LTR_Continent_lang_study_subject_final_model_weights\\assets\n"
          ]
        },
        {
          "name": "stdout",
          "output_type": "stream",
          "text": [
            "39/39 [==============================] - 1s 37ms/step - loss: 3.6028 - metric/ndcg: 0.9994 - metric/mrr: 0.3415 - metric/map: 0.3409\n",
            "Epoch 30/1000\n",
            "33/39 [========================>.....] - ETA: 0s - loss: 4.1949 - metric/ndcg: 0.9994 - metric/mrr: 0.3636 - metric/map: 0.3630 "
          ]
        },
        {
          "name": "stderr",
          "output_type": "stream",
          "text": [
            "WARNING:absl:Function `_wrapped_model` contains input name(s) args_0 with unsupported characters which will be renamed to args_0_3 in the SavedModel.\n"
          ]
        },
        {
          "name": "stdout",
          "output_type": "stream",
          "text": [
            "INFO:tensorflow:Assets written to: LTR_Continent_lang_study_subject_final_model_weights\\assets\n"
          ]
        },
        {
          "name": "stderr",
          "output_type": "stream",
          "text": [
            "INFO:tensorflow:Assets written to: LTR_Continent_lang_study_subject_final_model_weights\\assets\n"
          ]
        },
        {
          "name": "stdout",
          "output_type": "stream",
          "text": [
            "39/39 [==============================] - 2s 45ms/step - loss: 3.6015 - metric/ndcg: 0.9995 - metric/mrr: 0.3415 - metric/map: 0.3409\n",
            "Epoch 31/1000\n",
            "39/39 [==============================] - 0s 3ms/step - loss: 3.6004 - metric/ndcg: 0.9994 - metric/mrr: 0.3415 - metric/map: 0.3412\n",
            "Epoch 32/1000\n",
            "29/39 [=====================>........] - ETA: 0s - loss: 4.7707 - metric/ndcg: 0.9996 - metric/mrr: 0.3728 - metric/map: 0.3725 "
          ]
        },
        {
          "name": "stderr",
          "output_type": "stream",
          "text": [
            "WARNING:absl:Function `_wrapped_model` contains input name(s) args_0 with unsupported characters which will be renamed to args_0_3 in the SavedModel.\n"
          ]
        },
        {
          "name": "stdout",
          "output_type": "stream",
          "text": [
            "INFO:tensorflow:Assets written to: LTR_Continent_lang_study_subject_final_model_weights\\assets\n"
          ]
        },
        {
          "name": "stderr",
          "output_type": "stream",
          "text": [
            "INFO:tensorflow:Assets written to: LTR_Continent_lang_study_subject_final_model_weights\\assets\n"
          ]
        },
        {
          "name": "stdout",
          "output_type": "stream",
          "text": [
            "39/39 [==============================] - 1s 38ms/step - loss: 3.5993 - metric/ndcg: 0.9997 - metric/mrr: 0.3415 - metric/map: 0.3412\n",
            "Epoch 33/1000\n",
            "39/39 [==============================] - 0s 3ms/step - loss: 3.5984 - metric/ndcg: 0.9997 - metric/mrr: 0.3415 - metric/map: 0.3415\n",
            "Epoch 34/1000\n",
            "24/39 [=================>............] - ETA: 0s - loss: 5.7350 - metric/ndcg: 0.9995 - metric/mrr: 0.3984 - metric/map: 0.3980 "
          ]
        },
        {
          "name": "stderr",
          "output_type": "stream",
          "text": [
            "WARNING:absl:Function `_wrapped_model` contains input name(s) args_0 with unsupported characters which will be renamed to args_0_3 in the SavedModel.\n"
          ]
        },
        {
          "name": "stdout",
          "output_type": "stream",
          "text": [
            "INFO:tensorflow:Assets written to: LTR_Continent_lang_study_subject_final_model_weights\\assets\n"
          ]
        },
        {
          "name": "stderr",
          "output_type": "stream",
          "text": [
            "INFO:tensorflow:Assets written to: LTR_Continent_lang_study_subject_final_model_weights\\assets\n"
          ]
        },
        {
          "name": "stdout",
          "output_type": "stream",
          "text": [
            "39/39 [==============================] - 1s 38ms/step - loss: 3.5976 - metric/ndcg: 0.9997 - metric/mrr: 0.3415 - metric/map: 0.3412\n",
            "Epoch 35/1000\n",
            "39/39 [==============================] - 0s 4ms/step - loss: 3.5969 - metric/ndcg: 0.9997 - metric/mrr: 0.3415 - metric/map: 0.3412\n",
            "Epoch 36/1000\n",
            "39/39 [==============================] - 0s 3ms/step - loss: 3.5963 - metric/ndcg: 0.9997 - metric/mrr: 0.3415 - metric/map: 0.3412\n",
            "Epoch 37/1000\n",
            "31/39 [======================>.......] - ETA: 0s - loss: 4.4584 - metric/ndcg: 0.9997 - metric/mrr: 0.3649 - metric/map: 0.3646 "
          ]
        },
        {
          "name": "stderr",
          "output_type": "stream",
          "text": [
            "WARNING:absl:Function `_wrapped_model` contains input name(s) args_0 with unsupported characters which will be renamed to args_0_3 in the SavedModel.\n"
          ]
        },
        {
          "name": "stdout",
          "output_type": "stream",
          "text": [
            "INFO:tensorflow:Assets written to: LTR_Continent_lang_study_subject_final_model_weights\\assets\n"
          ]
        },
        {
          "name": "stderr",
          "output_type": "stream",
          "text": [
            "INFO:tensorflow:Assets written to: LTR_Continent_lang_study_subject_final_model_weights\\assets\n"
          ]
        },
        {
          "name": "stdout",
          "output_type": "stream",
          "text": [
            "39/39 [==============================] - 2s 42ms/step - loss: 3.5957 - metric/ndcg: 0.9997 - metric/mrr: 0.3415 - metric/map: 0.3412\n",
            "Epoch 38/1000\n",
            "39/39 [==============================] - 0s 3ms/step - loss: 3.5952 - metric/ndcg: 0.9997 - metric/mrr: 0.3415 - metric/map: 0.3415\n",
            "Epoch 39/1000\n",
            "21/39 [===============>..............] - ETA: 0s - loss: 6.4372 - metric/ndcg: 0.9996 - metric/mrr: 0.4137 - metric/map: 0.4132 "
          ]
        },
        {
          "name": "stderr",
          "output_type": "stream",
          "text": [
            "WARNING:absl:Function `_wrapped_model` contains input name(s) args_0 with unsupported characters which will be renamed to args_0_3 in the SavedModel.\n"
          ]
        },
        {
          "name": "stdout",
          "output_type": "stream",
          "text": [
            "INFO:tensorflow:Assets written to: LTR_Continent_lang_study_subject_final_model_weights\\assets\n"
          ]
        },
        {
          "name": "stderr",
          "output_type": "stream",
          "text": [
            "INFO:tensorflow:Assets written to: LTR_Continent_lang_study_subject_final_model_weights\\assets\n"
          ]
        },
        {
          "name": "stdout",
          "output_type": "stream",
          "text": [
            "39/39 [==============================] - 2s 39ms/step - loss: 3.5947 - metric/ndcg: 0.9998 - metric/mrr: 0.3415 - metric/map: 0.3412\n",
            "Epoch 40/1000\n",
            "32/39 [=======================>......] - ETA: 0s - loss: 4.3174 - metric/ndcg: 0.9998 - metric/mrr: 0.3613 - metric/map: 0.3613 "
          ]
        },
        {
          "name": "stderr",
          "output_type": "stream",
          "text": [
            "WARNING:absl:Function `_wrapped_model` contains input name(s) args_0 with unsupported characters which will be renamed to args_0_3 in the SavedModel.\n"
          ]
        },
        {
          "name": "stdout",
          "output_type": "stream",
          "text": [
            "INFO:tensorflow:Assets written to: LTR_Continent_lang_study_subject_final_model_weights\\assets\n"
          ]
        },
        {
          "name": "stderr",
          "output_type": "stream",
          "text": [
            "INFO:tensorflow:Assets written to: LTR_Continent_lang_study_subject_final_model_weights\\assets\n"
          ]
        },
        {
          "name": "stdout",
          "output_type": "stream",
          "text": [
            "39/39 [==============================] - 1s 36ms/step - loss: 3.5943 - metric/ndcg: 0.9998 - metric/mrr: 0.3415 - metric/map: 0.3415\n",
            "Epoch 41/1000\n",
            " 7/39 [====>.........................] - ETA: 0s - loss: 11.1833 - metric/ndcg: 0.9994 - metric/mrr: 0.5000 - metric/map: 0.5000"
          ]
        },
        {
          "name": "stderr",
          "output_type": "stream",
          "text": [
            "WARNING:absl:Function `_wrapped_model` contains input name(s) args_0 with unsupported characters which will be renamed to args_0_3 in the SavedModel.\n"
          ]
        },
        {
          "name": "stdout",
          "output_type": "stream",
          "text": [
            "INFO:tensorflow:Assets written to: LTR_Continent_lang_study_subject_final_model_weights\\assets\n"
          ]
        },
        {
          "name": "stderr",
          "output_type": "stream",
          "text": [
            "INFO:tensorflow:Assets written to: LTR_Continent_lang_study_subject_final_model_weights\\assets\n"
          ]
        },
        {
          "name": "stdout",
          "output_type": "stream",
          "text": [
            "39/39 [==============================] - 1s 38ms/step - loss: 3.5939 - metric/ndcg: 0.9998 - metric/mrr: 0.3415 - metric/map: 0.3412\n",
            "Epoch 42/1000\n",
            "29/39 [=====================>........] - ETA: 0s - loss: 4.7631 - metric/ndcg: 0.9998 - metric/mrr: 0.3728 - metric/map: 0.3728 "
          ]
        },
        {
          "name": "stderr",
          "output_type": "stream",
          "text": [
            "WARNING:absl:Function `_wrapped_model` contains input name(s) args_0 with unsupported characters which will be renamed to args_0_3 in the SavedModel.\n"
          ]
        },
        {
          "name": "stdout",
          "output_type": "stream",
          "text": [
            "INFO:tensorflow:Assets written to: LTR_Continent_lang_study_subject_final_model_weights\\assets\n"
          ]
        },
        {
          "name": "stderr",
          "output_type": "stream",
          "text": [
            "INFO:tensorflow:Assets written to: LTR_Continent_lang_study_subject_final_model_weights\\assets\n"
          ]
        },
        {
          "name": "stdout",
          "output_type": "stream",
          "text": [
            "39/39 [==============================] - 2s 43ms/step - loss: 3.5936 - metric/ndcg: 0.9998 - metric/mrr: 0.3415 - metric/map: 0.3415\n",
            "Epoch 43/1000\n",
            "26/39 [===================>..........] - ETA: 0s - loss: 5.3122 - metric/ndcg: 0.9998 - metric/mrr: 0.3894 - metric/map: 0.3894 "
          ]
        },
        {
          "name": "stderr",
          "output_type": "stream",
          "text": [
            "WARNING:absl:Function `_wrapped_model` contains input name(s) args_0 with unsupported characters which will be renamed to args_0_3 in the SavedModel.\n"
          ]
        },
        {
          "name": "stdout",
          "output_type": "stream",
          "text": [
            "INFO:tensorflow:Assets written to: LTR_Continent_lang_study_subject_final_model_weights\\assets\n"
          ]
        },
        {
          "name": "stderr",
          "output_type": "stream",
          "text": [
            "INFO:tensorflow:Assets written to: LTR_Continent_lang_study_subject_final_model_weights\\assets\n"
          ]
        },
        {
          "name": "stdout",
          "output_type": "stream",
          "text": [
            "39/39 [==============================] - 1s 38ms/step - loss: 3.5933 - metric/ndcg: 0.9999 - metric/mrr: 0.3415 - metric/map: 0.3415\n",
            "Epoch 44/1000\n",
            "39/39 [==============================] - 0s 3ms/step - loss: 3.5931 - metric/ndcg: 0.9998 - metric/mrr: 0.3415 - metric/map: 0.3415\n",
            "Epoch 45/1000\n",
            "39/39 [==============================] - 0s 3ms/step - loss: 3.5928 - metric/ndcg: 0.9998 - metric/mrr: 0.3415 - metric/map: 0.3415\n",
            "Epoch 46/1000\n",
            "30/39 [======================>.......] - ETA: 0s - loss: 4.6030 - metric/ndcg: 0.9998 - metric/mrr: 0.3708 - metric/map: 0.3708 "
          ]
        },
        {
          "name": "stderr",
          "output_type": "stream",
          "text": [
            "WARNING:absl:Function `_wrapped_model` contains input name(s) args_0 with unsupported characters which will be renamed to args_0_3 in the SavedModel.\n"
          ]
        },
        {
          "name": "stdout",
          "output_type": "stream",
          "text": [
            "INFO:tensorflow:Assets written to: LTR_Continent_lang_study_subject_final_model_weights\\assets\n"
          ]
        },
        {
          "name": "stderr",
          "output_type": "stream",
          "text": [
            "INFO:tensorflow:Assets written to: LTR_Continent_lang_study_subject_final_model_weights\\assets\n"
          ]
        },
        {
          "name": "stdout",
          "output_type": "stream",
          "text": [
            "39/39 [==============================] - 1s 38ms/step - loss: 3.5926 - metric/ndcg: 0.9999 - metric/mrr: 0.3415 - metric/map: 0.3415\n",
            "Epoch 47/1000\n",
            "39/39 [==============================] - 0s 4ms/step - loss: 3.5924 - metric/ndcg: 0.9998 - metric/mrr: 0.3415 - metric/map: 0.3415\n",
            "Epoch 48/1000\n",
            "30/39 [======================>.......] - ETA: 0s - loss: 4.6025 - metric/ndcg: 0.9999 - metric/mrr: 0.3708 - metric/map: 0.3705 "
          ]
        },
        {
          "name": "stderr",
          "output_type": "stream",
          "text": [
            "WARNING:absl:Function `_wrapped_model` contains input name(s) args_0 with unsupported characters which will be renamed to args_0_3 in the SavedModel.\n"
          ]
        },
        {
          "name": "stdout",
          "output_type": "stream",
          "text": [
            "INFO:tensorflow:Assets written to: LTR_Continent_lang_study_subject_final_model_weights\\assets\n"
          ]
        },
        {
          "name": "stderr",
          "output_type": "stream",
          "text": [
            "INFO:tensorflow:Assets written to: LTR_Continent_lang_study_subject_final_model_weights\\assets\n"
          ]
        },
        {
          "name": "stdout",
          "output_type": "stream",
          "text": [
            "39/39 [==============================] - 1s 38ms/step - loss: 3.5922 - metric/ndcg: 0.9999 - metric/mrr: 0.3415 - metric/map: 0.3412\n",
            "Epoch 49/1000\n",
            "39/39 [==============================] - 0s 3ms/step - loss: 3.5920 - metric/ndcg: 0.9998 - metric/mrr: 0.3415 - metric/map: 0.3415\n",
            "Epoch 50/1000\n",
            "39/39 [==============================] - 0s 3ms/step - loss: 3.5919 - metric/ndcg: 0.9999 - metric/mrr: 0.3415 - metric/map: 0.3412\n",
            "Epoch 51/1000\n",
            "39/39 [==============================] - 0s 3ms/step - loss: 3.5918 - metric/ndcg: 0.9999 - metric/mrr: 0.3415 - metric/map: 0.3415\n",
            "Epoch 52/1000\n",
            "29/39 [=====================>........] - ETA: 0s - loss: 4.7605 - metric/ndcg: 0.9999 - metric/mrr: 0.3728 - metric/map: 0.3725 "
          ]
        },
        {
          "name": "stderr",
          "output_type": "stream",
          "text": [
            "WARNING:absl:Function `_wrapped_model` contains input name(s) args_0 with unsupported characters which will be renamed to args_0_3 in the SavedModel.\n"
          ]
        },
        {
          "name": "stdout",
          "output_type": "stream",
          "text": [
            "INFO:tensorflow:Assets written to: LTR_Continent_lang_study_subject_final_model_weights\\assets\n"
          ]
        },
        {
          "name": "stderr",
          "output_type": "stream",
          "text": [
            "INFO:tensorflow:Assets written to: LTR_Continent_lang_study_subject_final_model_weights\\assets\n"
          ]
        },
        {
          "name": "stdout",
          "output_type": "stream",
          "text": [
            "39/39 [==============================] - 2s 43ms/step - loss: 3.5916 - metric/ndcg: 0.9999 - metric/mrr: 0.3415 - metric/map: 0.3412\n",
            "Epoch 53/1000\n",
            "39/39 [==============================] - 0s 4ms/step - loss: 3.5915 - metric/ndcg: 0.9999 - metric/mrr: 0.3415 - metric/map: 0.3415\n",
            "Epoch 54/1000\n",
            "39/39 [==============================] - 0s 3ms/step - loss: 3.5915 - metric/ndcg: 0.9999 - metric/mrr: 0.3415 - metric/map: 0.3412\n",
            "Epoch 55/1000\n",
            "27/39 [===================>..........] - ETA: 0s - loss: 5.1127 - metric/ndcg: 0.9999 - metric/mrr: 0.3796 - metric/map: 0.3796 "
          ]
        },
        {
          "name": "stderr",
          "output_type": "stream",
          "text": [
            "WARNING:absl:Function `_wrapped_model` contains input name(s) args_0 with unsupported characters which will be renamed to args_0_3 in the SavedModel.\n"
          ]
        },
        {
          "name": "stdout",
          "output_type": "stream",
          "text": [
            "INFO:tensorflow:Assets written to: LTR_Continent_lang_study_subject_final_model_weights\\assets\n"
          ]
        },
        {
          "name": "stderr",
          "output_type": "stream",
          "text": [
            "INFO:tensorflow:Assets written to: LTR_Continent_lang_study_subject_final_model_weights\\assets\n"
          ]
        },
        {
          "name": "stdout",
          "output_type": "stream",
          "text": [
            "39/39 [==============================] - 2s 39ms/step - loss: 3.5914 - metric/ndcg: 0.9999 - metric/mrr: 0.3415 - metric/map: 0.3415\n",
            "Epoch 56/1000\n",
            "39/39 [==============================] - 0s 4ms/step - loss: 3.5913 - metric/ndcg: 0.9999 - metric/mrr: 0.3415 - metric/map: 0.3412\n",
            "Epoch 57/1000\n",
            "39/39 [==============================] - 0s 3ms/step - loss: 3.5912 - metric/ndcg: 0.9999 - metric/mrr: 0.3415 - metric/map: 0.3412\n",
            "Epoch 58/1000\n",
            "39/39 [==============================] - 0s 3ms/step - loss: 3.5912 - metric/ndcg: 0.9999 - metric/mrr: 0.3415 - metric/map: 0.3412\n",
            "Epoch 59/1000\n",
            "39/39 [==============================] - 0s 4ms/step - loss: 3.5911 - metric/ndcg: 0.9999 - metric/mrr: 0.3415 - metric/map: 0.3412\n",
            "Epoch 60/1000\n",
            "39/39 [==============================] - 0s 3ms/step - loss: 3.5910 - metric/ndcg: 0.9999 - metric/mrr: 0.3415 - metric/map: 0.3412\n",
            "Epoch 61/1000\n",
            "39/39 [==============================] - 0s 3ms/step - loss: 3.5910 - metric/ndcg: 0.9999 - metric/mrr: 0.3415 - metric/map: 0.3412\n",
            "Epoch 62/1000\n",
            "39/39 [==============================] - 0s 4ms/step - loss: 3.5910 - metric/ndcg: 0.9999 - metric/mrr: 0.3415 - metric/map: 0.3412\n",
            "Epoch 63/1000\n",
            "39/39 [==============================] - 0s 3ms/step - loss: 3.5909 - metric/ndcg: 0.9999 - metric/mrr: 0.3415 - metric/map: 0.3415\n",
            "Epoch 64/1000\n",
            "39/39 [==============================] - 0s 4ms/step - loss: 3.5909 - metric/ndcg: 0.9999 - metric/mrr: 0.3415 - metric/map: 0.3412\n",
            "Epoch 65/1000\n",
            "39/39 [==============================] - 0s 4ms/step - loss: 3.5909 - metric/ndcg: 0.9999 - metric/mrr: 0.3415 - metric/map: 0.3415\n",
            "Epoch 66/1000\n",
            "39/39 [==============================] - 0s 4ms/step - loss: 3.5909 - metric/ndcg: 0.9999 - metric/mrr: 0.3415 - metric/map: 0.3412\n",
            "Epoch 67/1000\n",
            "39/39 [==============================] - 0s 3ms/step - loss: 3.5908 - metric/ndcg: 0.9999 - metric/mrr: 0.3415 - metric/map: 0.3415\n",
            "Epoch 68/1000\n",
            "39/39 [==============================] - 0s 4ms/step - loss: 3.5908 - metric/ndcg: 0.9999 - metric/mrr: 0.3415 - metric/map: 0.3412\n",
            "Epoch 69/1000\n",
            "39/39 [==============================] - 0s 3ms/step - loss: 3.5908 - metric/ndcg: 0.9998 - metric/mrr: 0.3415 - metric/map: 0.3415\n",
            "Epoch 70/1000\n",
            "39/39 [==============================] - 0s 3ms/step - loss: 3.5908 - metric/ndcg: 0.9999 - metric/mrr: 0.3415 - metric/map: 0.3412\n",
            "Epoch 71/1000\n",
            "39/39 [==============================] - 0s 4ms/step - loss: 3.5908 - metric/ndcg: 0.9998 - metric/mrr: 0.3415 - metric/map: 0.3415\n",
            "Epoch 72/1000\n",
            "39/39 [==============================] - 0s 3ms/step - loss: 3.5908 - metric/ndcg: 0.9999 - metric/mrr: 0.3415 - metric/map: 0.3412\n",
            "Epoch 73/1000\n",
            "39/39 [==============================] - 0s 3ms/step - loss: 3.5908 - metric/ndcg: 0.9998 - metric/mrr: 0.3415 - metric/map: 0.3415\n",
            "Epoch 74/1000\n",
            "39/39 [==============================] - 0s 4ms/step - loss: 3.5908 - metric/ndcg: 0.9998 - metric/mrr: 0.3415 - metric/map: 0.3412\n",
            "Epoch 75/1000\n",
            "39/39 [==============================] - 0s 7ms/step - loss: 3.5908 - metric/ndcg: 0.9998 - metric/mrr: 0.3415 - metric/map: 0.3415\n",
            "Epoch 76/1000\n",
            "39/39 [==============================] - 0s 5ms/step - loss: 3.5908 - metric/ndcg: 0.9998 - metric/mrr: 0.3415 - metric/map: 0.3412\n",
            "Epoch 77/1000\n",
            "39/39 [==============================] - 0s 5ms/step - loss: 3.5908 - metric/ndcg: 0.9998 - metric/mrr: 0.3415 - metric/map: 0.3415\n",
            "Epoch 78/1000\n",
            "39/39 [==============================] - 0s 6ms/step - loss: 3.5908 - metric/ndcg: 0.9998 - metric/mrr: 0.3415 - metric/map: 0.3415\n",
            "Epoch 79/1000\n",
            "39/39 [==============================] - 0s 7ms/step - loss: 3.5908 - metric/ndcg: 0.9998 - metric/mrr: 0.3415 - metric/map: 0.3412\n",
            "Epoch 80/1000\n",
            "39/39 [==============================] - 0s 8ms/step - loss: 3.5908 - metric/ndcg: 0.9999 - metric/mrr: 0.3415 - metric/map: 0.3415\n",
            "Epoch 81/1000\n",
            "39/39 [==============================] - 0s 6ms/step - loss: 3.5907 - metric/ndcg: 0.9998 - metric/mrr: 0.3415 - metric/map: 0.3409\n",
            "Epoch 82/1000\n",
            "39/39 [==============================] - 0s 7ms/step - loss: 3.5907 - metric/ndcg: 0.9999 - metric/mrr: 0.3415 - metric/map: 0.3415\n",
            "Epoch 83/1000\n",
            "39/39 [==============================] - 0s 6ms/step - loss: 3.5907 - metric/ndcg: 0.9998 - metric/mrr: 0.3415 - metric/map: 0.3412\n",
            "Epoch 84/1000\n",
            "39/39 [==============================] - 0s 6ms/step - loss: 3.5907 - metric/ndcg: 0.9999 - metric/mrr: 0.3415 - metric/map: 0.3415\n",
            "Epoch 85/1000\n",
            "39/39 [==============================] - 0s 7ms/step - loss: 3.5907 - metric/ndcg: 0.9998 - metric/mrr: 0.3415 - metric/map: 0.3412\n",
            "Epoch 86/1000\n",
            "39/39 [==============================] - 0s 3ms/step - loss: 3.5907 - metric/ndcg: 0.9999 - metric/mrr: 0.3415 - metric/map: 0.3415\n",
            "Epoch 87/1000\n",
            "39/39 [==============================] - 0s 5ms/step - loss: 3.5907 - metric/ndcg: 0.9999 - metric/mrr: 0.3415 - metric/map: 0.3412\n",
            "Epoch 88/1000\n",
            "39/39 [==============================] - 0s 4ms/step - loss: 3.5908 - metric/ndcg: 0.9998 - metric/mrr: 0.3415 - metric/map: 0.3415\n",
            "Epoch 89/1000\n",
            "39/39 [==============================] - 0s 4ms/step - loss: 3.5908 - metric/ndcg: 0.9998 - metric/mrr: 0.3415 - metric/map: 0.3412\n",
            "Epoch 90/1000\n",
            "39/39 [==============================] - 0s 5ms/step - loss: 3.5909 - metric/ndcg: 0.9998 - metric/mrr: 0.3415 - metric/map: 0.3415\n",
            "Epoch 91/1000\n",
            "39/39 [==============================] - 0s 4ms/step - loss: 3.5909 - metric/ndcg: 0.9998 - metric/mrr: 0.3415 - metric/map: 0.3415\n",
            "Epoch 92/1000\n",
            "39/39 [==============================] - 0s 6ms/step - loss: 3.5909 - metric/ndcg: 0.9998 - metric/mrr: 0.3415 - metric/map: 0.3415\n",
            "Epoch 93/1000\n",
            "39/39 [==============================] - 0s 5ms/step - loss: 3.5909 - metric/ndcg: 0.9998 - metric/mrr: 0.3415 - metric/map: 0.3415\n",
            "Epoch 94/1000\n",
            "39/39 [==============================] - 0s 4ms/step - loss: 3.5909 - metric/ndcg: 0.9998 - metric/mrr: 0.3415 - metric/map: 0.3415\n",
            "Epoch 95/1000\n",
            "39/39 [==============================] - 0s 4ms/step - loss: 3.5909 - metric/ndcg: 0.9998 - metric/mrr: 0.3415 - metric/map: 0.3415\n",
            "Epoch 96/1000\n",
            "39/39 [==============================] - 0s 5ms/step - loss: 3.5908 - metric/ndcg: 0.9998 - metric/mrr: 0.3415 - metric/map: 0.3415\n",
            "Epoch 97/1000\n",
            "39/39 [==============================] - 0s 4ms/step - loss: 3.5908 - metric/ndcg: 0.9998 - metric/mrr: 0.3415 - metric/map: 0.3415\n",
            "Epoch 98/1000\n",
            "39/39 [==============================] - 0s 3ms/step - loss: 3.5908 - metric/ndcg: 0.9999 - metric/mrr: 0.3415 - metric/map: 0.3415\n",
            "Epoch 99/1000\n",
            "39/39 [==============================] - 0s 4ms/step - loss: 3.5908 - metric/ndcg: 0.9998 - metric/mrr: 0.3415 - metric/map: 0.3412\n",
            "Epoch 100/1000\n",
            "39/39 [==============================] - 0s 4ms/step - loss: 3.5908 - metric/ndcg: 0.9999 - metric/mrr: 0.3415 - metric/map: 0.3412\n",
            "Epoch 101/1000\n",
            "39/39 [==============================] - 0s 4ms/step - loss: 3.5908 - metric/ndcg: 0.9998 - metric/mrr: 0.3415 - metric/map: 0.3415\n",
            "Epoch 102/1000\n",
            "39/39 [==============================] - 0s 5ms/step - loss: 3.5907 - metric/ndcg: 0.9999 - metric/mrr: 0.3415 - metric/map: 0.3412\n",
            "Epoch 103/1000\n",
            "39/39 [==============================] - 0s 6ms/step - loss: 3.5907 - metric/ndcg: 0.9998 - metric/mrr: 0.3415 - metric/map: 0.3415\n",
            "Epoch 104/1000\n",
            "39/39 [==============================] - 0s 5ms/step - loss: 3.5907 - metric/ndcg: 0.9998 - metric/mrr: 0.3415 - metric/map: 0.3412\n",
            "Epoch 105/1000\n",
            "39/39 [==============================] - 0s 5ms/step - loss: 3.5907 - metric/ndcg: 0.9998 - metric/mrr: 0.3415 - metric/map: 0.3415\n",
            "Epoch 106/1000\n",
            "39/39 [==============================] - 0s 5ms/step - loss: 3.5907 - metric/ndcg: 0.9998 - metric/mrr: 0.3415 - metric/map: 0.3412\n",
            "Epoch 107/1000\n",
            "39/39 [==============================] - 0s 5ms/step - loss: 3.5907 - metric/ndcg: 0.9998 - metric/mrr: 0.3415 - metric/map: 0.3415\n",
            "Epoch 108/1000\n",
            "39/39 [==============================] - 0s 4ms/step - loss: 3.5907 - metric/ndcg: 0.9998 - metric/mrr: 0.3415 - metric/map: 0.3412\n",
            "Epoch 109/1000\n",
            "39/39 [==============================] - 0s 4ms/step - loss: 3.5907 - metric/ndcg: 0.9998 - metric/mrr: 0.3415 - metric/map: 0.3415\n",
            "Epoch 110/1000\n",
            "39/39 [==============================] - 0s 4ms/step - loss: 3.5907 - metric/ndcg: 0.9998 - metric/mrr: 0.3415 - metric/map: 0.3412\n",
            "Epoch 111/1000\n",
            "39/39 [==============================] - 0s 4ms/step - loss: 3.5908 - metric/ndcg: 0.9998 - metric/mrr: 0.3415 - metric/map: 0.3415\n",
            "Epoch 112/1000\n",
            "39/39 [==============================] - 0s 7ms/step - loss: 3.5908 - metric/ndcg: 0.9998 - metric/mrr: 0.3415 - metric/map: 0.3412\n",
            "Epoch 113/1000\n",
            "39/39 [==============================] - 0s 4ms/step - loss: 3.5908 - metric/ndcg: 0.9998 - metric/mrr: 0.3415 - metric/map: 0.3415\n",
            "Epoch 114/1000\n",
            "39/39 [==============================] - 0s 3ms/step - loss: 3.5908 - metric/ndcg: 0.9998 - metric/mrr: 0.3415 - metric/map: 0.3412\n",
            "Epoch 115/1000\n",
            "39/39 [==============================] - 0s 3ms/step - loss: 3.5908 - metric/ndcg: 0.9998 - metric/mrr: 0.3415 - metric/map: 0.3415\n",
            "Epoch 116/1000\n",
            "39/39 [==============================] - 0s 4ms/step - loss: 3.5908 - metric/ndcg: 0.9998 - metric/mrr: 0.3415 - metric/map: 0.3412\n",
            "Epoch 117/1000\n",
            "39/39 [==============================] - 0s 4ms/step - loss: 3.5908 - metric/ndcg: 0.9998 - metric/mrr: 0.3415 - metric/map: 0.3415\n",
            "Epoch 118/1000\n",
            "39/39 [==============================] - 0s 3ms/step - loss: 3.5908 - metric/ndcg: 0.9997 - metric/mrr: 0.3404 - metric/map: 0.3401\n",
            "Epoch 119/1000\n",
            "39/39 [==============================] - 0s 4ms/step - loss: 3.5908 - metric/ndcg: 0.9998 - metric/mrr: 0.3415 - metric/map: 0.3415\n",
            "Epoch 120/1000\n",
            "39/39 [==============================] - 0s 3ms/step - loss: 3.5908 - metric/ndcg: 0.9997 - metric/mrr: 0.3404 - metric/map: 0.3401\n",
            "Epoch 121/1000\n",
            "39/39 [==============================] - 0s 3ms/step - loss: 3.5908 - metric/ndcg: 0.9998 - metric/mrr: 0.3415 - metric/map: 0.3415\n",
            "Epoch 122/1000\n",
            "39/39 [==============================] - 0s 4ms/step - loss: 3.5908 - metric/ndcg: 0.9997 - metric/mrr: 0.3404 - metric/map: 0.3401\n",
            "Epoch 123/1000\n",
            "39/39 [==============================] - 0s 4ms/step - loss: 3.5909 - metric/ndcg: 0.9998 - metric/mrr: 0.3415 - metric/map: 0.3415\n",
            "Epoch 124/1000\n",
            "39/39 [==============================] - 0s 4ms/step - loss: 3.5909 - metric/ndcg: 0.9997 - metric/mrr: 0.3404 - metric/map: 0.3401\n",
            "Epoch 125/1000\n",
            "39/39 [==============================] - 0s 4ms/step - loss: 3.5909 - metric/ndcg: 0.9998 - metric/mrr: 0.3415 - metric/map: 0.3415\n",
            "Epoch 126/1000\n",
            "39/39 [==============================] - 0s 4ms/step - loss: 3.5909 - metric/ndcg: 0.9998 - metric/mrr: 0.3415 - metric/map: 0.3411\n",
            "Epoch 127/1000\n",
            "39/39 [==============================] - 0s 4ms/step - loss: 3.5909 - metric/ndcg: 0.9998 - metric/mrr: 0.3415 - metric/map: 0.3409\n",
            "Epoch 128/1000\n",
            "39/39 [==============================] - 0s 4ms/step - loss: 3.5909 - metric/ndcg: 0.9998 - metric/mrr: 0.3415 - metric/map: 0.3412\n",
            "Epoch 129/1000\n",
            "39/39 [==============================] - 0s 4ms/step - loss: 3.5909 - metric/ndcg: 0.9998 - metric/mrr: 0.3415 - metric/map: 0.3409\n",
            "Epoch 130/1000\n",
            "39/39 [==============================] - 0s 5ms/step - loss: 3.5909 - metric/ndcg: 0.9998 - metric/mrr: 0.3415 - metric/map: 0.3409\n",
            "Epoch 131/1000\n",
            "39/39 [==============================] - 0s 4ms/step - loss: 3.5909 - metric/ndcg: 0.9998 - metric/mrr: 0.3415 - metric/map: 0.3409\n",
            "Epoch 132/1000\n",
            "39/39 [==============================] - 0s 4ms/step - loss: 3.5909 - metric/ndcg: 0.9997 - metric/mrr: 0.3415 - metric/map: 0.3409\n",
            "Epoch 133/1000\n",
            "39/39 [==============================] - 0s 4ms/step - loss: 3.5909 - metric/ndcg: 0.9999 - metric/mrr: 0.3415 - metric/map: 0.3412\n",
            "Epoch 134/1000\n",
            "39/39 [==============================] - 0s 4ms/step - loss: 3.5909 - metric/ndcg: 0.9997 - metric/mrr: 0.3407 - metric/map: 0.3401\n",
            "Epoch 135/1000\n",
            "39/39 [==============================] - 0s 4ms/step - loss: 3.5909 - metric/ndcg: 0.9999 - metric/mrr: 0.3415 - metric/map: 0.3412\n",
            "Epoch 136/1000\n",
            "39/39 [==============================] - 0s 4ms/step - loss: 3.5908 - metric/ndcg: 0.9997 - metric/mrr: 0.3407 - metric/map: 0.3404\n",
            "Epoch 137/1000\n",
            "39/39 [==============================] - 0s 5ms/step - loss: 3.5908 - metric/ndcg: 0.9999 - metric/mrr: 0.3415 - metric/map: 0.3415\n",
            "Epoch 138/1000\n",
            "39/39 [==============================] - 0s 4ms/step - loss: 3.5908 - metric/ndcg: 0.9998 - metric/mrr: 0.3407 - metric/map: 0.3407\n",
            "Epoch 139/1000\n",
            "39/39 [==============================] - 0s 4ms/step - loss: 3.5908 - metric/ndcg: 0.9999 - metric/mrr: 0.3415 - metric/map: 0.3415\n",
            "Epoch 140/1000\n",
            "39/39 [==============================] - 0s 4ms/step - loss: 3.5908 - metric/ndcg: 0.9997 - metric/mrr: 0.3407 - metric/map: 0.3407\n",
            "Epoch 141/1000\n",
            "39/39 [==============================] - 0s 4ms/step - loss: 3.5908 - metric/ndcg: 0.9998 - metric/mrr: 0.3415 - metric/map: 0.3415\n",
            "Epoch 142/1000\n",
            "39/39 [==============================] - 0s 4ms/step - loss: 3.5908 - metric/ndcg: 0.9998 - metric/mrr: 0.3407 - metric/map: 0.3407\n",
            "Epoch 143/1000\n",
            "39/39 [==============================] - 0s 3ms/step - loss: 3.5908 - metric/ndcg: 0.9998 - metric/mrr: 0.3415 - metric/map: 0.3415\n",
            "Epoch 144/1000\n",
            "39/39 [==============================] - 0s 3ms/step - loss: 3.5908 - metric/ndcg: 0.9997 - metric/mrr: 0.3415 - metric/map: 0.3412\n",
            "Epoch 145/1000\n",
            "39/39 [==============================] - 0s 3ms/step - loss: 3.5908 - metric/ndcg: 0.9998 - metric/mrr: 0.3415 - metric/map: 0.3415\n",
            "Epoch 146/1000\n",
            "39/39 [==============================] - 0s 3ms/step - loss: 3.5908 - metric/ndcg: 0.9997 - metric/mrr: 0.3415 - metric/map: 0.3412\n",
            "Epoch 147/1000\n",
            "39/39 [==============================] - 0s 3ms/step - loss: 3.5908 - metric/ndcg: 0.9998 - metric/mrr: 0.3415 - metric/map: 0.3415\n",
            "Epoch 148/1000\n",
            "39/39 [==============================] - 0s 3ms/step - loss: 3.5908 - metric/ndcg: 0.9998 - metric/mrr: 0.3407 - metric/map: 0.3404\n",
            "Epoch 149/1000\n",
            "39/39 [==============================] - 0s 3ms/step - loss: 3.5908 - metric/ndcg: 0.9998 - metric/mrr: 0.3415 - metric/map: 0.3412\n",
            "Epoch 150/1000\n",
            "39/39 [==============================] - 0s 3ms/step - loss: 3.5908 - metric/ndcg: 0.9998 - metric/mrr: 0.3407 - metric/map: 0.3401\n",
            "Epoch 151/1000\n",
            "39/39 [==============================] - 0s 3ms/step - loss: 3.5908 - metric/ndcg: 0.9998 - metric/mrr: 0.3415 - metric/map: 0.3412\n",
            "Epoch 152/1000\n",
            "39/39 [==============================] - 0s 3ms/step - loss: 3.5909 - metric/ndcg: 0.9997 - metric/mrr: 0.3407 - metric/map: 0.3401\n",
            "Epoch 153/1000\n",
            "39/39 [==============================] - 0s 3ms/step - loss: 3.5909 - metric/ndcg: 0.9998 - metric/mrr: 0.3415 - metric/map: 0.3412\n",
            "Epoch 154/1000\n",
            "39/39 [==============================] - 0s 3ms/step - loss: 3.5909 - metric/ndcg: 0.9997 - metric/mrr: 0.3407 - metric/map: 0.3407\n",
            "Epoch 155/1000\n",
            "39/39 [==============================] - 0s 3ms/step - loss: 3.5909 - metric/ndcg: 0.9999 - metric/mrr: 0.3415 - metric/map: 0.3415\n",
            "Epoch 156/1000\n",
            "39/39 [==============================] - 0s 4ms/step - loss: 3.5909 - metric/ndcg: 0.9998 - metric/mrr: 0.3415 - metric/map: 0.3415\n"
          ]
        }
      ],
      "source": [
        "epoch = 1000\n",
        "\n",
        "history = model.fit(train, epochs=epoch, callbacks=[callback, checkpoint])"
      ]
    },
    {
      "cell_type": "code",
      "execution_count": 14,
      "metadata": {
        "colab": {
          "base_uri": "https://localhost:8080/",
          "height": 351
        },
        "id": "Qcy1dpCgjYvM",
        "outputId": "1ae6852e-2535-4f6d-ecd6-70f4c0a68592"
      },
      "outputs": [
        {
          "data": {
            "text/plain": [
              "Text(0, 0.5, 'loss')"
            ]
          },
          "execution_count": 14,
          "metadata": {},
          "output_type": "execute_result"
        },
        {
          "data": {
            "image/png": "[encoded data removed]",
            "text/plain": [
              "<Figure size 432x288 with 1 Axes>"
            ]
          },
          "metadata": {
            "needs_background": "light"
          },
          "output_type": "display_data"
        }
      ],
      "source": [
        "import seaborn as sns\n",
        "\n",
        "epochs = list(range(1, len(list(history.history['loss']))+1))\n",
        "loss = history.history['loss']\n",
        "\n",
        "g = sns.lineplot(epochs, loss, legend= True);\n",
        "g.set_xlabel('epochs')\n",
        "g.set_ylabel('loss')"
      ]
    },
    {
      "cell_type": "code",
      "execution_count": 15,
      "metadata": {
        "colab": {
          "base_uri": "https://localhost:8080/",
          "height": 351
        },
        "id": "mFXqpXHkjyKT",
        "outputId": "d24626ca-a7b0-4078-be0f-1ab7f0251696"
      },
      "outputs": [
        {
          "data": {
            "text/plain": [
              "Text(0, 0.5, 'ndcg score')"
            ]
          },
          "execution_count": 15,
          "metadata": {},
          "output_type": "execute_result"
        },
        {
          "data": {
            "image/png": "[encoded data removed]",
            "text/plain": [
              "<Figure size 432x288 with 1 Axes>"
            ]
          },
          "metadata": {
            "needs_background": "light"
          },
          "output_type": "display_data"
        }
      ],
      "source": [
        "g = sns.lineplot(epochs, history.history['metric/ndcg'], legend= True);\n",
        "g.set_xlabel('epochs')\n",
        "g.set_ylabel('ndcg score')"
      ]
    },
    {
      "cell_type": "code",
      "execution_count": 16,
      "metadata": {
        "colab": {
          "base_uri": "https://localhost:8080/",
          "height": 351
        },
        "id": "p-U7qXzilWpC",
        "outputId": "86c03e89-58dc-4227-b654-980200a04467"
      },
      "outputs": [
        {
          "data": {
            "text/plain": [
              "Text(0, 0.5, 'mrr score')"
            ]
          },
          "execution_count": 16,
          "metadata": {},
          "output_type": "execute_result"
        },
        {
          "data": {
            "image/png": "[encoded data removed]",
            "text/plain": [
              "<Figure size 432x288 with 1 Axes>"
            ]
          },
          "metadata": {
            "needs_background": "light"
          },
          "output_type": "display_data"
        }
      ],
      "source": [
        "g = sns.lineplot(epochs, history.history['metric/mrr'], legend= True);\n",
        "g.set_xlabel('epochs')\n",
        "g.set_ylabel('mrr score')"
      ]
    },
    {
      "cell_type": "code",
      "execution_count": 17,
      "metadata": {
        "colab": {
          "base_uri": "https://localhost:8080/"
        },
        "id": "Tl07JIDJodsS",
        "outputId": "3a5657c0-3fe9-42e3-ca97-03d0bd2dd7d6"
      },
      "outputs": [
        {
          "name": "stdout",
          "output_type": "stream",
          "text": [
            "Top 10 recommendations for subject  'banking_financial': [b'north-america@eng@474' b'north-america@eng@371'\n",
            " b'north-america@eng@448' b'europe@eng@359' b'asia@eng@445'\n",
            " b'north-america@eng@557' b'europe@fre@591' b'north-america@eng@359'\n",
            " b'asia@eng@271' b'europe@eng@593']\n"
          ]
        }
      ],
      "source": [
        "# Get supplier candidate list.\n",
        "# for supplier_id in ratings.batch(20):\n",
        "#   break\n",
        "\n",
        "# Generate the input for user 42.\n",
        "inputs = {\n",
        "    \"subject_name\":\n",
        "        tf.expand_dims(tf.repeat('banking_financial', repeats=tf.convert_to_tensor(unique_suppliers).shape[0]), axis=0),\n",
        "    \"supplier_id\":\n",
        "        tf.expand_dims(tf.convert_to_tensor(unique_suppliers), axis=0)\n",
        "}\n",
        "\n",
        "# Get movie recommendations for user 42.\n",
        "scores = model(inputs)\n",
        "IDS = tfr.utils.sort_by_scores(scores,\n",
        "                                  [tf.expand_dims(tf.convert_to_tensor(unique_suppliers), axis=0)])[0]\n",
        "\n",
        "print(f\"Top 10 recommendations for subject  'banking_financial': {IDS[0, :10]}\")"
      ]
    },
    {
      "cell_type": "markdown",
      "metadata": {
        "id": "1pdKcRC96i0V"
      },
      "source": [
        "## saving weights"
      ]
    },
    {
      "cell_type": "code",
      "execution_count": 18,
      "metadata": {
        "id": "waF4NRbm5_pl"
      },
      "outputs": [],
      "source": [
        "# import os\n",
        "\n",
        "# if not os.path.exists('final_model_weights'):\n",
        "#     os.makedirs('final_model_weights')\n",
        "    \n",
        "# model.save_weights('final_model_weights/')"
      ]
    },
    {
      "cell_type": "markdown",
      "metadata": {
        "id": "02BLQbKN6kwd"
      },
      "source": [
        "## Loading Weights"
      ]
    },
    {
      "cell_type": "code",
      "execution_count": 19,
      "metadata": {
        "colab": {
          "base_uri": "https://localhost:8080/"
        },
        "id": "cy2UG3Db6Gqu",
        "outputId": "bd592295-575a-49e4-b247-6b8b17c4338e"
      },
      "outputs": [
        {
          "data": {
            "text/plain": [
              "<tensorflow.python.training.tracking.util.CheckpointLoadStatus at 0x15740c3b2e0>"
            ]
          },
          "execution_count": 19,
          "metadata": {},
          "output_type": "execute_result"
        }
      ],
      "source": [
        "D = RankingModel(suppliers_vocabulary, subjects_vocabulary)\n",
        "\n",
        "optimizer = optimizers.Adagrad(0.5)\n",
        "\n",
        "loss = tfr.keras.losses.get(\n",
        "    loss=tfr.keras.losses.RankingLossKey.SOFTMAX_LOSS, ragged=True)\n",
        "\n",
        "eval_metrics = [\n",
        "    tfr.keras.metrics.get(key=\"ndcg\", name=\"metric/ndcg\", ragged=True),\n",
        "    tfr.keras.metrics.get(key=\"mrr\", name=\"metric/mrr\", ragged=True)\n",
        "]\n",
        "\n",
        "D.compile(optimizer=optimizer, loss=loss, metrics=eval_metrics)\n",
        "\n",
        "D.load_weights('LTR_Continent_lang_study_subject_final_model_weights/')"
      ]
    },
    {
      "cell_type": "code",
      "execution_count": 20,
      "metadata": {
        "colab": {
          "base_uri": "https://localhost:8080/"
        },
        "id": "jQ84TuwE2lPp",
        "outputId": "3dbe8d50-7f8d-410d-88e0-0ae672b7fa1b"
      },
      "outputs": [
        {
          "name": "stdout",
          "output_type": "stream",
          "text": [
            "Top 10 recommendations for subject  'banking_financial': [b'north-america@eng@474' b'north-america@eng@371'\n",
            " b'north-america@eng@448' b'asia@eng@445' b'north-america@eng@557'\n",
            " b'europe@fre@591' b'north-america@eng@558' b'europe@eng@359'\n",
            " b'north-america@eng@442' b'north-america@eng@359' b'europe@eng@593'\n",
            " b'north-america@eng@600' b'europe@ita@591' b'north-america@eng@572'\n",
            " b'asia@eng@271' b'north-america@eng@528' b'europe@ger@537'\n",
            " b'oceania@eng@528' b'europe@fre@271' b'oceania@eng@524'\n",
            " b'north-america@eng@445' b'north-america@eng@288' b'asia@jpn@588'\n",
            " b'north-america@eng@590' b'north-america@eng@404' b'asia@eng@537'\n",
            " b'north-america@eng@543' b'north-america@eng@271' b'europe@fre@561'\n",
            " b'europe@eng@524' b'north-america@eng@229' b'north-america@eng@520'\n",
            " b'asia@eng@113' b'oceania@eng@592' b'asia@may@271' b'oceania@eng@557'\n",
            " b'north-america@eng@500' b'north-america@eng@272' b'europe@eng@124'\n",
            " b'africa@eng@271' b'north-america@eng@341' b'europe@eng@574'\n",
            " b'europe@hun@271' b'north-america@eng@570' b'north-america@eng@273'\n",
            " b'europe@eng@549' b'south-america@eng@271' b'north-america@spa@558'\n",
            " b'europe@ita@271' b'north-america@eng@458']\n"
          ]
        }
      ],
      "source": [
        "\n",
        "# Generate the input for inferance.\n",
        "inputs = {\n",
        "    \"subject_name\":\n",
        "        tf.expand_dims(tf.repeat('banking_financial', repeats=tf.convert_to_tensor(unique_suppliers).shape[0]), axis=0),\n",
        "    \"supplier_id\":\n",
        "        tf.expand_dims(tf.convert_to_tensor(unique_suppliers), axis=0)\n",
        "}\n",
        "\n",
        "# Get movie recommendations.\n",
        "scores = D(inputs)\n",
        "IDS = tfr.utils.sort_by_scores(scores,\n",
        "                                  [tf.expand_dims(tf.convert_to_tensor(unique_suppliers), axis=0)])[0]\n",
        "\n",
        "\n",
        "print(f\"Top 10 recommendations for subject  'banking_financial': {IDS[0, :50]}\")"
      ]
    },
    {
      "cell_type": "code",
      "execution_count": null,
      "metadata": {},
      "outputs": [],
      "source": []
    }
  ],
  "metadata": {
    "colab": {
      "collapsed_sections": [],
      "name": "Leraning_To_Rank.ipynb",
      "provenance": []
    },
    "interpreter": {
      "hash": "d437c2bd0d26a9909614bcc5b04828d6277ae5f269770a7161a0a726ff076161"
    },
    "kernelspec": {
      "display_name": "Python 3.9.0 ('myenv')",
      "language": "python",
      "name": "python3"
    },
    "language_info": {
      "codemirror_mode": {
        "name": "ipython",
        "version": 3
      },
      "file_extension": ".py",
      "mimetype": "text/x-python",
      "name": "python",
      "nbconvert_exporter": "python",
      "pygments_lexer": "ipython3",
      "version": "3.9.0"
    }
  },
  "nbformat": 4,
  "nbformat_minor": 0
}
