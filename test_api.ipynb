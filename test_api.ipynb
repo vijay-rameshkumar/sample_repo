{
 "cells": [
  {
   "cell_type": "code",
   "execution_count": 1,
   "metadata": {},
   "outputs": [],
   "source": [
    "top_k = 10\n",
    "study_groups = '[{\"id\":\"a452991e-25f9-4b8d-a988-780185bb79dc\",\"studySubjectIds\":[\"c3102234-f46c-4df8-8ee5-e4a1857484dc\"]}]'\n",
    "target_group = '[{\"name\":\"Age\",\"quota\":200,\"qualifications\":[{\"id\":\"bf3d2a7c-2014-4aa9-a0a1-48422baf7a18\",\"values\":[\"18-99\"]}]}]'\n",
    "language = 'eng'\n",
    "country = 'gbr'.upper()"
   ]
  },
  {
   "cell_type": "code",
   "execution_count": 7,
   "metadata": {},
   "outputs": [
    {
     "data": {
      "text/plain": [
       "'{\"574\": [1.0388883376532667, \"IR_l2\", \"europe@healthcare\"], \"600\": [0.7732309398308043, \"IR_l2\", \"europe@healthcare\"], \"537\": [0.7171200936376918, \"IR_l2\", \"europe@healthcare\"], \"601\": [0.5912686344884238, \"IR_l2\", \"europe@healthcare\"], \"271\": [0.5881600190936598, \"IR_l2\", \"europe@healthcare\"], \"301\": [0.34640562534332275, \"l1\", \"europe@eng@healthcare\"], \"557\": [0.34640562534332275, \"l1\", \"europe@eng@healthcare\"], \"593\": [0.34640562534332275, \"l1\", \"europe@eng@healthcare\"], \"113\": [0.34640562534332275, \"l1\", \"europe@eng@healthcare\"], \"341\": [0.34640562534332275, \"l1\", \"europe@eng@healthcare\"]}'"
      ]
     },
     "execution_count": 7,
     "metadata": {},
     "output_type": "execute_result"
    }
   ],
   "source": [
    "import requests\n",
    "\n",
    "url = f\"http://127.0.0.1:5000/recommend_suppliers?study_groups={study_groups}&target_group={target_group}&language={language}&country={country}&top_k={top_k}\"\n",
    "\n",
    "r = requests.post(url).json()\n",
    "r"
   ]
  }
 ],
 "metadata": {
  "kernelspec": {
   "display_name": "Python 3.9.0 ('myenv')",
   "language": "python",
   "name": "python3"
  },
  "language_info": {
   "codemirror_mode": {
    "name": "ipython",
    "version": 3
   },
   "file_extension": ".py",
   "mimetype": "text/x-python",
   "name": "python",
   "nbconvert_exporter": "python",
   "pygments_lexer": "ipython3",
   "version": "3.9.0"
  },
  "orig_nbformat": 4,
  "vscode": {
   "interpreter": {
    "hash": "d437c2bd0d26a9909614bcc5b04828d6277ae5f269770a7161a0a726ff076161"
   }
  }
 },
 "nbformat": 4,
 "nbformat_minor": 2
}
